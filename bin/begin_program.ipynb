{
 "cells": [
  {
   "cell_type": "code",
   "execution_count": 2,
   "id": "df4ec4db-d98f-4045-ae55-40d9fb345913",
   "metadata": {},
   "outputs": [],
   "source": [
    "#!/usr/bin/env ruby\n",
    "# frozen_string_literal: true\n",
    "\n",
    "lib_dir = File.expand_path(File.join(__dir__, '..', 'lib'))\n",
    "$LOAD_PATH.unshift lib_dir unless $LOAD_PATH.include?(lib_dir)\n",
    "\n",
    "require \"composable_operations\"\n",
    "require \"net/http\"\n",
    "require \"dry/monads\"\n",
    "\n",
    "require \"faraday\"\n",
    "require \"hashie\"\n",
    "require \"json\"\n",
    "require \"jsonl\"\n",
    "require \"langchainrb\"\n",
    "\n",
    "require \"dotenv\"\n",
    "Dotenv.load(File.join(__dir__, \"..\", \"docker\", \".env\"))\n",
    "\n",
    "require \"utils/logging\"\n",
    "require \"utils/arraylib\"\n",
    "require \"utils/glob\"\n",
    "require \"utils/linked-list\"\n",
    "require \"utils/text/fix_encoding\"\n",
    "\n",
    "if $PROGRAM_NAME == __FILE__\n",
    "  command = ARGV.shift\n",
    "\n",
    "  case command\n",
    "  when \"dictation\"\n",
    "      puts \"run dictation routine\"\n",
    "  else\n",
    "    puts <<~USAGE\n",
    "      Usage: ruby knowlecule.rb <command> [arguements}\n",
    "\n",
    "      Commands:\n",
    "        dictation  dictate-->transcribe-->save to notebook\n",
    "    USAGE\n",
    "  end\n",
    "end"
   ]
  },
  {
   "cell_type": "code",
   "execution_count": null,
   "id": "a7b903c3-03ee-4762-b24a-65784be34686",
   "metadata": {},
   "outputs": [],
   "source": []
  }
 ],
 "metadata": {
  "kernelspec": {
   "display_name": "Ruby 3.1.4",
   "language": "ruby",
   "name": "ruby"
  },
  "language_info": {
   "file_extension": ".rb",
   "mimetype": "application/x-ruby",
   "name": "ruby",
   "version": "3.1.4"
  }
 },
 "nbformat": 4,
 "nbformat_minor": 5
}
