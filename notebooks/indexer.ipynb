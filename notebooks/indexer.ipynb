{
 "cells": [
  {
   "cell_type": "code",
   "execution_count": 1,
   "id": "2210a8af-2027-4837-bcba-e53f347643ae",
   "metadata": {},
   "outputs": [
    {
     "data": {
      "text/plain": [
       "true"
      ]
     },
     "execution_count": 1,
     "metadata": {},
     "output_type": "execute_result"
    }
   ],
   "source": [
    "#!/usr/bin/env ruby\n",
    "# frozen_string_literal: true\n",
    "\n",
    "lib_dir = File.expand_path(File.join(__dir__, '..', 'lib'))\n",
    "$LOAD_PATH.unshift lib_dir unless $LOAD_PATH.include?(lib_dir)\n",
    "\n",
    "require \"dotenv\"\n",
    "\n",
    "Dotenv.load(File.join(__dir__, \"..\", \"docker\", \".env\"))\n",
    "\n",
    "require \"algorithms\"\n",
    "require \"composable_operations\"\n",
    "require \"net/http\"\n",
    "require \"dry/monads\"\n",
    "\n",
    "require \"parallel\"\n",
    "\n",
    "require \"faraday\"\n",
    "require \"hashie\"\n",
    "require \"json\"\n",
    "require \"jsonl\"\n",
    "\n",
    "require \"utils/logging\"\n",
    "require \"utils/arraylib\"\n",
    "require \"utils/glob\"\n",
    "\n",
    "\n",
    "require \"db/ohm\"\n",
    "require \"db/postgres\"\n",
    "\n",
    "require \"fileobject\"\n"
   ]
  },
  {
   "cell_type": "code",
   "execution_count": 2,
   "id": "048a14d7-a57f-46df-9213-526d98595e58",
   "metadata": {},
   "outputs": [
    {
     "name": "stdout",
     "output_type": "stream",
     "text": [
      "11154\n"
     ]
    },
    {
     "data": {
      "text/plain": [
       "11154"
      ]
     },
     "execution_count": 2,
     "metadata": {},
     "output_type": "execute_result"
    }
   ],
   "source": [
    "source_folder = File.join(Dir.home, \"Library\")\n",
    "\n",
    "documents = Knowlecule::Util::Glob.documents(source_folder)\n",
    "\n",
    "queue = Containers::Queue.new(documents)\n",
    "\n",
    "p queue.size\n"
   ]
  },
  {
   "cell_type": "code",
   "execution_count": null,
   "id": "dc348183-e79f-45c0-a300-cb76952fbb2c",
   "metadata": {},
   "outputs": [],
   "source": []
  }
 ],
 "metadata": {
  "kernelspec": {
   "display_name": "Ruby 3.1.4",
   "language": "ruby",
   "name": "ruby"
  },
  "language_info": {
   "file_extension": ".rb",
   "mimetype": "application/x-ruby",
   "name": "ruby",
   "version": "3.1.4"
  }
 },
 "nbformat": 4,
 "nbformat_minor": 5
}
