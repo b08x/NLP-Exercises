{
 "cells": [
  {
   "cell_type": "code",
   "execution_count": 1,
   "id": "2210a8af-2027-4837-bcba-e53f347643ae",
   "metadata": {},
   "outputs": [
    {
     "data": {
      "text/plain": [
       "{\"FLOWISE_API_ENDPOINT\"=>\"http://ninjabot.syncopated.net:3002/api/v1/prediction/2dd5e5a2-41b3-41fd-83a9-e29c49029014\"}"
      ]
     },
     "execution_count": 1,
     "metadata": {},
     "output_type": "execute_result"
    }
   ],
   "source": [
    "#!/usr/bin/env ruby\n",
    "# frozen_string_literal: true\n",
    "\n",
    "lib_dir = File.expand_path(File.join(__dir__, '..', 'lib'))\n",
    "$LOAD_PATH.unshift lib_dir unless $LOAD_PATH.include?(lib_dir)\n",
    "\n",
    "require \"algorithms\"\n",
    "require \"composable_operations\"\n",
    "require \"net/http\"\n",
    "require \"dry/monads\"\n",
    "require \"dotenv\"\n",
    "require \"parallel\"\n",
    "\n",
    "require \"faraday\"\n",
    "require \"hashie\"\n",
    "require \"json\"\n",
    "require \"jsonl\"\n",
    "\n",
    "require \"utils/logging\"\n",
    "require \"utils/arraylib\"\n",
    "require \"utils/glob\"\n",
    "\n",
    "\n",
    "require \"db/ohm\"\n",
    "require \"db/postgres\"\n",
    "\n",
    "require \"fileobject\"\n",
    "\n",
    "Dotenv.load(File.join(__dir__, \"..\", \"docker\", \".env\"))"
   ]
  },
  {
   "cell_type": "code",
   "execution_count": 2,
   "id": "048a14d7-a57f-46df-9213-526d98595e58",
   "metadata": {},
   "outputs": [
    {
     "name": "stdout",
     "output_type": "stream",
     "text": [
      "11154\n"
     ]
    },
    {
     "data": {
      "text/plain": [
       "11154"
      ]
     },
     "execution_count": 2,
     "metadata": {},
     "output_type": "execute_result"
    }
   ],
   "source": [
    "source_folder = File.join(Dir.home, \"Library\")\n",
    "\n",
    "documents = Knowlecule::Util::Glob.documents(source_folder)\n",
    "\n",
    "queue = Containers::Queue.new(documents)\n",
    "\n",
    "p queue.size\n"
   ]
  },
  {
   "cell_type": "code",
   "execution_count": 3,
   "id": "6b65aaf8-b8cc-455f-9699-56491f41ae08",
   "metadata": {},
   "outputs": [
    {
     "name": "stdout",
     "output_type": "stream",
     "text": [
      "\"/home/jovyan/Library/Archive/Workspace/scratchpad/resume.pdf\"\n"
     ]
    },
    {
     "data": {
      "text/plain": [
       "\"/home/jovyan/Library/Archive/Workspace/scratchpad/resume.pdf\""
      ]
     },
     "execution_count": 3,
     "metadata": {},
     "output_type": "execute_result"
    }
   ],
   "source": [
    "p queue.next"
   ]
  },
  {
   "cell_type": "code",
   "execution_count": 4,
   "id": "c75cc6ec-a53e-4378-a98a-049f51a8a1ec",
   "metadata": {},
   "outputs": [
    {
     "ename": "NameError",
     "evalue": "undefined local variable or method `files' for #<Object:0x0000720a9c3a7848>",
     "output_type": "error",
     "traceback": [
      "\u001b[31mNameError\u001b[0m: undefined local variable or method `files' for #<Object:0x0000720a9c3a7848>",
      "(irb):in `<top (required)>'"
     ]
    }
   ],
   "source": [
    "Parallel.map(files, progress: \"     #{files.count}\", in_processes: 3) do |file|\n",
    "    add(FileObject.metadata(file[1]))\n",
    "end"
   ]
  },
  {
   "cell_type": "code",
   "execution_count": null,
   "id": "a48a4558-54d3-469d-864c-35ee324e6534",
   "metadata": {},
   "outputs": [],
   "source": []
  }
 ],
 "metadata": {
  "kernelspec": {
   "display_name": "Ruby 3.1.4",
   "language": "ruby",
   "name": "ruby"
  },
  "language_info": {
   "file_extension": ".rb",
   "mimetype": "application/x-ruby",
   "name": "ruby",
   "version": "3.1.4"
  }
 },
 "nbformat": 4,
 "nbformat_minor": 5
}
