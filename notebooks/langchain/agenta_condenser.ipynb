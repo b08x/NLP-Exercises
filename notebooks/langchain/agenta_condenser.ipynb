{
 "cells": [
  {
   "cell_type": "code",
   "execution_count": null,
   "id": "3a6e08b6-ae40-4e63-9ab7-08af99ef0832",
   "metadata": {},
   "outputs": [],
   "source": [
    "import agenta as ag\n",
    "from langchain.chains import LLMChain\n",
    "from langchain.llms import OpenAI\n",
    "\n",
    "import dotenv\n",
    "import os\n",
    "\n",
    "dotenv.load_dotenv()\n",
    "\n",
    "os.environ[\"DEBUG\"] = \"1\"  # Set to \"1\" if you want to use debug mode.\n",
    "os.environ[\"HUGGINGFACEHUB_API_TOKEN\"] = os.getenv(\"HUGGINGFACEHUB_API_TOKEN\")\n",
    "\n",
    "from huggingface_hub.hf_api import HfFolder\n",
    "\n",
    "HfFolder.save_token(os.environ[\"HUGGINGFACEHUB_API_TOKEN\"])"
   ]
  },
  {
   "cell_type": "code",
   "execution_count": null,
   "id": "58072226-659e-41ee-a204-d96a42a015d9",
   "metadata": {},
   "outputs": [],
   "source": [
    "from typing import List\n",
    "\n",
    "from langchain.prompts import PromptTemplate\n",
    "from langchain.prompts import HumanMessagePromptTemplate\n",
    "\n",
    "from langchain_core.prompts import ChatPromptTemplate\n",
    "from langchain_core.messages import SystemMessage\n",
    "from langchain_core.output_parsers import JsonOutputParser\n",
    "from langchain_core.pydantic_v1 import BaseModel, Field\n",
    "\n",
    "from langchain_community.llms import HuggingFaceEndpoint\n",
    "from langchain_community.chat_models.huggingface import ChatHuggingFace"
   ]
  },
  {
   "cell_type": "code",
   "execution_count": null,
   "id": "e37bf5ea-df18-43c2-81b4-1e863083e0e3",
   "metadata": {},
   "outputs": [],
   "source": [
    "prompt = ChatPromptTemplate.from_messages(\n",
    "    [\n",
    "        SystemMessage(\n",
    "            content=(\n",
    "                \"Explain the meaning and origin of a user-provided idiom or proverb, including its figurative meaning, typical usage, historical context, and any interesting origin stories\"\n",
    "            )\n",
    "        ),\n",
    "        HumanMessagePromptTemplate.from_template(\"{text}\"),\n",
    "    ]\n",
    ")"
   ]
  },
  {
   "cell_type": "code",
   "execution_count": null,
   "id": "8a4daf6e-db2e-4c15-b9d7-45b2511f61ce",
   "metadata": {},
   "outputs": [],
   "source": [
    "CHAT_LLM_HF = [\n",
    "    \"mistralai/Mixtral-8x7B-Instruct-v0.1\",\n",
    "    \"mistralai/Mistral-7B-Instruct-v0.2\",\n",
    "    \"HuggingFaceH4/zephyr-7b-beta\",\n",
    "]\n",
    "\n"
   ]
  },
  {
   "cell_type": "code",
   "execution_count": null,
   "id": "77a6dca4-c03e-47b8-86f8-2c132efd8972",
   "metadata": {},
   "outputs": [],
   "source": [
    "ag.init()\n",
    "ag.config.register_default(prompt_template=prompt)\n",
    "\n",
    "ag.config.default(\n",
    "    temperature=ag.FloatParam(default=1, minval=0.0, maxval=2.0),\n",
    "    model=ag.MultipleChoiceParam(\"mistralai/Mistral-7B-v0.1\", CHAT_LLM_HF),\n",
    "    max_tokens=ag.IntParam(-1, -1, 4000),\n",
    "    top_k=ag.FloatParam(30),\n",
    "    repetition_penalty=ag.FloatParam(default=0.0, minval=-2.0, maxval=2.0),\n",
    "    force_json=ag.BinaryParam(False),\n",
    ")\n"
   ]
  },
  {
   "cell_type": "code",
   "execution_count": null,
   "id": "ae5a472e-3e9e-4c03-947a-0cc6707c5c95",
   "metadata": {},
   "outputs": [],
   "source": [
    "@ag.entrypoint\n",
    "def generate(text: str) -> str:\n",
    "    llm = HuggingFaceHub(\n",
    "        repo_id=\"HuggingFaceH4/zephyr-7b-beta\",\n",
    "        task=\"text-generation\",\n",
    "        model_kwargs={\n",
    "            \"max_new_tokens\": ag.config.max_tokens,\n",
    "            \"top_k\": ag.config.top_k,\n",
    "            \"temperature\": ag.config.temperature,\n",
    "            \"repetition_penalty\": ag.config.repetition_penalty,\n",
    "        },\n",
    "    )\n",
    "\n",
    "    chat_model = ChatHuggingFace(llm=llm)\n",
    "\n",
    "    chain = prompt | chat_model\n",
    "    output = chain.run(text=text)\n",
    "\n",
    "    return output\n"
   ]
  },
  {
   "cell_type": "code",
   "execution_count": null,
   "id": "2e916820-ac4c-47f7-ad3e-c9b169497bcb",
   "metadata": {},
   "outputs": [],
   "source": [
    "print(generate(\"agenta\")"
   ]
  },
  {
   "cell_type": "code",
   "execution_count": null,
   "id": "b39b7bcf-bb39-470b-a718-4a997ba6ccf0",
   "metadata": {},
   "outputs": [],
   "source": []
  }
 ],
 "metadata": {
  "kernelspec": {
   "display_name": "Python 3 (ipykernel)",
   "language": "python",
   "name": "python3"
  },
  "language_info": {
   "codemirror_mode": {
    "name": "ipython",
    "version": 3
   },
   "file_extension": ".py",
   "mimetype": "text/x-python",
   "name": "python",
   "nbconvert_exporter": "python",
   "pygments_lexer": "ipython3",
   "version": "3.11.8"
  }
 },
 "nbformat": 4,
 "nbformat_minor": 5
}
