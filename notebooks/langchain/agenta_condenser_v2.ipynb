{
 "cells": [
  {
   "cell_type": "code",
   "execution_count": null,
   "id": "28da0d9d-e867-44d5-92e8-6a180d2a9bce",
   "metadata": {},
   "outputs": [],
   "source": [
    "import agenta as ag\n",
    "from langchain.chains import LLMChain\n",
    "from langchain.llms import OpenAI\n",
    "\n",
    "import dotenv\n",
    "import os\n",
    "\n",
    "dotenv.load_dotenv()\n",
    "\n",
    "os.environ[\"DEBUG\"] = \"1\"  # Set to \"1\" if you want to use debug mode.\n",
    "os.environ[\"HUGGINGFACEHUB_API_TOKEN\"] = os.getenv(\"HUGGINGFACEHUB_API_TOKEN\")\n",
    "\n",
    "from huggingface_hub.hf_api import HfFolder\n",
    "\n",
    "HfFolder.save_token(os.environ[\"HUGGINGFACEHUB_API_TOKEN\"])"
   ]
  },
  {
   "cell_type": "code",
   "execution_count": null,
   "id": "15ca8c0d-1fc6-471e-9303-7da02f41a609",
   "metadata": {},
   "outputs": [],
   "source": [
    "from typing import List\n",
    "from typing import Optional\n",
    "\n",
    "from langchain.prompts import PromptTemplate\n",
    "from langchain.prompts import HumanMessagePromptTemplate\n",
    "\n",
    "from langchain_core.prompts import ChatPromptTemplate\n",
    "from langchain_core.messages import SystemMessage\n",
    "from langchain_core.output_parsers import JsonOutputParser\n",
    "from langchain_core.pydantic_v1 import BaseModel, Field\n",
    "\n",
    "from langchain_community.llms import HuggingFaceEndpoint\n",
    "from langchain_community.chat_models.huggingface import ChatHuggingFace"
   ]
  },
  {
   "cell_type": "code",
   "execution_count": null,
   "id": "caadda89-1278-4797-bd99-db64bc8f7732",
   "metadata": {},
   "outputs": [],
   "source": [
    "from langchain.prompts import ChatPromptTemplate, HumanMessagePromptTemplate\n",
    "from langchain.schema import HumanMessage, SystemMessage\n",
    "\n",
    "from pydantic import BaseModel, Field"
   ]
  },
  {
   "cell_type": "code",
   "execution_count": null,
   "id": "5b6cf970-21ec-461e-b6b8-a348854df937",
   "metadata": {},
   "outputs": [],
   "source": [
    "CHAT_LLM_HF = [\n",
    "    \"mistralai/Mixtral-8x7B-Instruct-v0.1\",\n",
    "    \"mistralai/Mistral-7B-Instruct-v0.2\",\n",
    "    \"HuggingFaceH4/zephyr-7b-beta\",\n",
    "]\n"
   ]
  },
  {
   "cell_type": "code",
   "execution_count": null,
   "id": "c65c8f9b-59ba-407f-bb8c-4a8500bc2cbf",
   "metadata": {},
   "outputs": [],
   "source": [
    "\n",
    "ag.init()\n",
    "ag.config.default(\n",
    "    system_message=ag.TextParam(\n",
    "        \"Explain the meaning and origin of a user-provided idiom or proverb, including its figurative meaning, typical usage, historical context, and any interesting origin stories\"\n",
    "    ),\n",
    "    human_message=ag.TextParam(\n",
    "        \"Break a leg\"\n",
    "    ),\n",
    "    content_message=ag.TextParam(\"Tips: Make sure to answer in the correct format\"),\n",
    "    # company_desc_message=ag.TextParam(\"The name of the company\"),\n",
    "    # position_desc_message=ag.TextParam(\"The name of the position\"),\n",
    "    # salary_range_desc_message=ag.TextParam(\"The salary range of the position\"),\n",
    "    max_tokens=ag.IntParam(-1, -1, 4000),\n",
    "    temperature=ag.FloatParam(default=1, minval=0.0, maxval=2.0),\n",
    "    top_k=ag.FloatParam(30),\n",
    "    repetition_penalty=ag.FloatParam(default=0.0, minval=-2.0, maxval=2.0),\n",
    "    model=ag.MultipleChoiceParam(\"HuggingFaceH4/zephyr-7b-beta\", CHAT_LLM_HF),\n",
    ")"
   ]
  },
  {
   "cell_type": "code",
   "execution_count": null,
   "id": "b0a426db-f945-451d-b5a5-fa61795d1f74",
   "metadata": {},
   "outputs": [],
   "source": [
    "def create_job_class(company_desc: str, position_desc: str, salary_range_desc: str):\n",
    "    \"\"\"Create a job class to be used in langchain\"\"\"\n",
    "\n",
    "    class Job(BaseModel):\n",
    "        company_name: str = Field(..., description=company_desc)\n",
    "        position_name: str = Field(..., description=position_desc)\n",
    "        salary_range: Optional[str] = Field(None, description=salary_range_desc)\n",
    "\n",
    "    return Job\n"
   ]
  },
  {
   "cell_type": "code",
   "execution_count": null,
   "id": "52aab9df-9fa5-4f33-a90e-f94045e33a7e",
   "metadata": {},
   "outputs": [],
   "source": [
    "\n",
    "@ag.entrypoint\n",
    "def generate(\n",
    "    text: str,\n",
    ") -> str:\n",
    "    llm = HuggingFaceHub(\n",
    "        repo_id=ag.config.model,\n",
    "        task=\"text-generation\",\n",
    "        model_kwargs={\n",
    "            \"max_new_tokens\": ag.config.max_tokens,\n",
    "            \"top_k\": ag.config.top_k,\n",
    "            \"temperature\": ag.config.temperature,\n",
    "            \"repetition_penalty\": ag.config.repetition_penalty,\n",
    "        },\n",
    "    )\n",
    "    prompt_msgs = [\n",
    "        SystemMessage(content=ag.config.system_message),\n",
    "        HumanMessage(content=ag.config.human_message),\n",
    "        HumanMessagePromptTemplate.from_template(\"{input}\"),\n",
    "        HumanMessage(content=ag.config.content_message),\n",
    "    ]\n",
    "    prompt = ChatPromptTemplate(messages=prompt_msgs)\n",
    "\n",
    "    chain = llm | prompt\n",
    "    \n",
    "    # chain = create_structured_output_chain(\n",
    "    #     create_job_class(\n",
    "    #         company_desc=ag.config.company_desc_message,\n",
    "    #         position_desc=ag.config.position_desc_message,\n",
    "    #         salary_range_desc=ag.config.salary_range_desc_message,\n",
    "    #     ),\n",
    "    #     llm,\n",
    "    #     prompt,\n",
    "    #     verbose=False,\n",
    "    # )\n",
    "    output = chain.run(text)\n",
    "\n",
    "    return str(output)"
   ]
  }
 ],
 "metadata": {
  "kernelspec": {
   "display_name": "Python 3 (ipykernel)",
   "language": "python",
   "name": "python3"
  },
  "language_info": {
   "codemirror_mode": {
    "name": "ipython",
    "version": 3
   },
   "file_extension": ".py",
   "mimetype": "text/x-python",
   "name": "python",
   "nbconvert_exporter": "python",
   "pygments_lexer": "ipython3",
   "version": "3.11.8"
  }
 },
 "nbformat": 4,
 "nbformat_minor": 5
}
