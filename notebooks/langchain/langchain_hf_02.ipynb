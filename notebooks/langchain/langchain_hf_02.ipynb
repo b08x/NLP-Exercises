{
 "cells": [
  {
   "cell_type": "code",
   "execution_count": 32,
   "id": "7b44a017-4a9d-4a41-8059-40dcd7e35fdf",
   "metadata": {},
   "outputs": [
    {
     "name": "stdout",
     "output_type": "stream",
     "text": [
      "Note: you may need to restart the kernel to use updated packages.\n"
     ]
    }
   ],
   "source": [
    "%pip install --upgrade --quiet  text-generation transformers google-search-results numexpr langchainhub sentencepiece jinja2 huggingface_hub"
   ]
  },
  {
   "cell_type": "code",
   "execution_count": 33,
   "id": "988b6079-601b-4882-93d4-caf4e3b95d8d",
   "metadata": {},
   "outputs": [],
   "source": [
    "import dotenv \n",
    "import os\n",
    "\n",
    "dotenv.load_dotenv()\n",
    "\n",
    "os.environ[\"DEBUG\"] = \"1\"  # Set to \"1\" if you want to use debug mode.\n",
    "os.environ[\"HUGGINGFACEHUB_API_TOKEN\"] = os.getenv(\"HUGGINGFACEHUB_API_TOKEN\")\n",
    "\n",
    "from huggingface_hub.hf_api import HfFolder\n",
    "HfFolder.save_token(os.environ[\"HUGGINGFACEHUB_API_TOKEN\"])\n"
   ]
  },
  {
   "cell_type": "code",
   "execution_count": 34,
   "id": "ac5f1afd-92b8-4bce-80e0-1b53bbd4b237",
   "metadata": {},
   "outputs": [],
   "source": [
    "from typing import List\n",
    "\n",
    "from langchain_core.output_parsers import JsonOutputParser\n",
    "from langchain_core.pydantic_v1 import BaseModel, Field\n",
    "from langchain_core.prompts import ChatPromptTemplate\n",
    "\n",
    "from langchain.output_parsers import CommaSeparatedListOutputParser\n",
    "\n",
    "from langchain_community.llms import HuggingFaceEndpoint\n",
    "from langchain_community.llms import HuggingFaceHub\n",
    "from langchain_community.chat_models.huggingface import ChatHuggingFace\n"
   ]
  },
  {
   "cell_type": "code",
   "execution_count": 35,
   "id": "d2e42e34-f392-4aef-aad6-72f730279112",
   "metadata": {},
   "outputs": [],
   "source": [
    "llm = HuggingFaceHub(\n",
    "    repo_id=\"HuggingFaceH4/zephyr-7b-beta\",\n",
    "    task=\"text-generation\",\n",
    "    model_kwargs={\n",
    "        \"max_new_tokens\": 512,\n",
    "        \"top_k\": 30,\n",
    "        \"temperature\": 0.1,\n",
    "        \"repetition_penalty\": 1.03,\n",
    "    },\n",
    ")\n"
   ]
  },
  {
   "cell_type": "code",
   "execution_count": 36,
   "id": "e0a9fc97-b773-4803-acff-41abf18f8dc6",
   "metadata": {},
   "outputs": [],
   "source": [
    "from langchain.schema import (\n",
    "    HumanMessage,\n",
    "    SystemMessage,\n",
    ")\n",
    "\n",
    "messages = [\n",
    "    SystemMessage(content=\"Explain the meaning and origin of a user-provided idiom or proverb, including its figurative meaning, typical usage, historical context, and any interesting origin stories\"),\n",
    "    HumanMessage(\n",
    "        content=\"Break a leg?\"\n",
    "    ),\n",
    "]\n",
    "\n",
    "chat_model = ChatHuggingFace(llm=llm)"
   ]
  },
  {
   "cell_type": "code",
   "execution_count": 37,
   "id": "63da2187-9289-4847-97a0-c320a2e30e50",
   "metadata": {},
   "outputs": [
    {
     "data": {
      "text/plain": [
       "'<|system|>\\nExplain the meaning and origin of a user-provided idiom or proverb, including its figurative meaning, typical usage, historical context, and any interesting origin stories</s>\\n<|user|>\\nBreak a leg?</s>\\n<|assistant|>\\n'"
      ]
     },
     "execution_count": 37,
     "metadata": {},
     "output_type": "execute_result"
    }
   ],
   "source": [
    "#Inspect how the chat messages are formatted for the LLM call.\n",
    "chat_model._to_chat_prompt(messages)"
   ]
  },
  {
   "cell_type": "code",
   "execution_count": 38,
   "id": "1bd6824b-30f0-4bff-b500-fd9d036f0a74",
   "metadata": {},
   "outputs": [
    {
     "name": "stdout",
     "output_type": "stream",
     "text": [
      "<|system|>\n",
      "Explain the meaning and origin of a user-provided idiom or proverb, including its figurative meaning, typical usage, historical context, and any interesting origin stories</s>\n",
      "<|user|>\n",
      "Break a leg?</s>\n",
      "<|assistant|>\n",
      "\"Break a leg\" is a common English idiom that is used to wish someone good luck, particularly in theatrical performances. The literal meaning of the phrase is to hope that the person does not actually break their leg, as this would be a serious setback for a performer.\n",
      "\n",
      "The origin of this idiom is unclear, but it is believed to have originated in the theater world during the 19th century. Some theories suggest that it may have come from the superstition that saying \"good luck\" aloud could bring bad luck, so instead, people began saying \"break a leg\" as a way to avoid tempting fate. Others suggest that it may have originated from the fact that actors would often wear long pants to conceal their leg warmers, which could make it difficult to notice a broken leg until it was too late.\n",
      "\n",
      "Regardless of its origins, \"break a leg\" has become a widely recognized and commonly used expression in English-speaking cultures. It is typically used in situations where someone is about to embark on a challenging or high-pressure endeavor, such as a performance, presentation, or competition. By wishing them \"good luck\" in a more lighthearted and humorous way, the speaker is hoping to put the recipient at ease and help them feel more confident in their abilities.\n"
     ]
    }
   ],
   "source": [
    "res = chat_model.invoke(messages)\n",
    "print(res.content)"
   ]
  },
  {
   "cell_type": "code",
   "execution_count": 39,
   "id": "548eb662-9952-4391-a03d-8156c28254ec",
   "metadata": {},
   "outputs": [],
   "source": [
    "llm = HuggingFaceHub(\n",
    "    repo_id=\"mistralai/Mistral-7B-v0.1\",\n",
    "    task=\"text-generation\",\n",
    "    model_kwargs={\n",
    "        \"max_new_tokens\": 1024,\n",
    "        \"top_k\": 30,\n",
    "        \"temperature\": 0.9,\n",
    "        \"repetition_penalty\": 1.03,\n",
    "    },\n",
    ")"
   ]
  },
  {
   "cell_type": "code",
   "execution_count": 40,
   "id": "52415021-ee00-4df7-bbdf-de4a0afdfed8",
   "metadata": {},
   "outputs": [
    {
     "name": "stderr",
     "output_type": "stream",
     "text": [
      "\n",
      "No chat template is defined for this tokenizer - using the default template for the LlamaTokenizerFast class. If the default is not appropriate for your model, please set `tokenizer.chat_template` to an appropriate template. See https://huggingface.co/docs/transformers/main/chat_templating for more information.\n",
      "\n"
     ]
    },
    {
     "data": {
      "text/plain": [
       "['<s>[INST] Explain the meaning and origin of the user-provided idiom or proverb Break a leg',\n",
       " 'including its figurative meaning',\n",
       " 'typical usage',\n",
       " 'historical context',\n",
       " 'and any interesting origin stories. [/INST]\\n\\nBreak a Leg is a phrase that means to wish someone good luck or have good luck. It is typically used in theatres but can be used in everyday life as well. It’s origin is unknown but it dates back at least 100 years. Some say it was said to actors before going on stage',\n",
       " 'while others say it’s a reference to good luck for actors to not trip. The phrase became more popular in the 1930s and 40s when actors in movies were told to break a leg just before their scenes were filmed.\\n\\nThis idiom is also a very famous part of the play A Streetcar Named Desire by Tennessee Williams. In the famous movie version of the play',\n",
       " 'Marlon Brando tells Vivian Leigh to break a leg before one of her big scenes. This is why it’s such an important phrase in the theatre world and has become so popular over time.']"
      ]
     },
     "execution_count": 40,
     "metadata": {},
     "output_type": "execute_result"
    }
   ],
   "source": [
    "\n",
    "output_parser = CommaSeparatedListOutputParser()\n",
    "\n",
    "\n",
    "chat = ChatHuggingFace(llm=llm)\n",
    "\n",
    "prompt = ChatPromptTemplate.from_template(\"Explain the meaning and origin of the user-provided idiom or proverb {input}, including its figurative meaning, typical usage, historical context, and any interesting origin stories.\")\n",
    "chain = prompt | chat |output_parser\n",
    "\n",
    "\n",
    "chain.invoke({\"input\": \"Break a leg\"})\n"
   ]
  },
  {
   "cell_type": "code",
   "execution_count": 20,
   "id": "9405cc25-bac5-43f0-aab5-b1b7047dd1a3",
   "metadata": {},
   "outputs": [],
   "source": []
  },
  {
   "cell_type": "code",
   "execution_count": null,
   "id": "02e7badf-fd42-4751-8884-7bc4bd4108ff",
   "metadata": {},
   "outputs": [],
   "source": []
  }
 ],
 "metadata": {
  "kernelspec": {
   "display_name": "Python 3 (ipykernel)",
   "language": "python",
   "name": "python3"
  },
  "language_info": {
   "codemirror_mode": {
    "name": "ipython",
    "version": 3
   },
   "file_extension": ".py",
   "mimetype": "text/x-python",
   "name": "python",
   "nbconvert_exporter": "python",
   "pygments_lexer": "ipython3",
   "version": "3.10.6"
  }
 },
 "nbformat": 4,
 "nbformat_minor": 5
}
