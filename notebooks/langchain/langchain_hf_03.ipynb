{
 "cells": [
  {
   "cell_type": "code",
   "execution_count": 3,
   "id": "43ab29ab-2929-456e-bc54-e26b49a20c8e",
   "metadata": {},
   "outputs": [
    {
     "name": "stdout",
     "output_type": "stream",
     "text": [
      "Note: you may need to restart the kernel to use updated packages.\n"
     ]
    }
   ],
   "source": [
    "%pip install --upgrade --quiet  text-generation transformers google-search-results numexpr langchainhub sentencepiece jinja2"
   ]
  },
  {
   "cell_type": "code",
   "execution_count": 1,
   "id": "2c408ba1-3405-46bd-8e32-b72e2fafac9c",
   "metadata": {},
   "outputs": [],
   "source": [
    "import dotenv \n",
    "import os\n",
    "\n",
    "dotenv.load_dotenv()\n",
    "\n",
    "os.environ[\"DEBUG\"] = \"1\"  # Set to \"1\" if you want to use debug mode.\n",
    "os.environ[\"HUGGINGFACEHUB_API_TOKEN\"] = os.getenv(\"HUGGINGFACEHUB_API_TOKEN\")\n",
    "\n",
    "from huggingface_hub.hf_api import HfFolder\n",
    "HfFolder.save_token(os.environ[\"HUGGINGFACEHUB_API_TOKEN\"])\n"
   ]
  },
  {
   "cell_type": "code",
   "execution_count": 2,
   "id": "73e199ca-de9c-447a-8a10-79ff1a937d46",
   "metadata": {},
   "outputs": [],
   "source": [
    "from typing import List\n",
    "from typing import Tuple\n",
    "\n",
    "from langchain.prompts import PromptTemplate\n",
    "from langchain_core.output_parsers import JsonOutputParser\n",
    "from langchain_core.pydantic_v1 import BaseModel, Field\n",
    "\n",
    "from langchain_community.llms import HuggingFaceEndpoint\n",
    "from langchain_community.chat_models.huggingface import ChatHuggingFace"
   ]
  },
  {
   "cell_type": "code",
   "execution_count": 3,
   "id": "d21b927e-3657-464b-907f-880c5ee8ae16",
   "metadata": {},
   "outputs": [
    {
     "name": "stdout",
     "output_type": "stream",
     "text": [
      "Token has not been saved to git credential helper. Pass `add_to_git_credential=True` if you want to set the git credential as well.\n",
      "Token is valid (permission: write).\n",
      "Your token has been saved to /home/jovyan/.cache/huggingface/token\n",
      "Login successful\n"
     ]
    },
    {
     "data": {
      "application/vnd.jupyter.widget-view+json": {
       "model_id": "f52fc1bf924247cdb4ef8c47325486f7",
       "version_major": 2,
       "version_minor": 0
      },
      "text/plain": [
       "tokenizer_config.json:   0%|          | 0.00/1.62k [00:00<?, ?B/s]"
      ]
     },
     "metadata": {},
     "output_type": "display_data"
    },
    {
     "data": {
      "application/vnd.jupyter.widget-view+json": {
       "model_id": "00399cdefea945ae891da6058d8a3ae6",
       "version_major": 2,
       "version_minor": 0
      },
      "text/plain": [
       "tokenizer.model:   0%|          | 0.00/500k [00:00<?, ?B/s]"
      ]
     },
     "metadata": {},
     "output_type": "display_data"
    },
    {
     "data": {
      "application/vnd.jupyter.widget-view+json": {
       "model_id": "2aff38738cc74bae80f71876325a5157",
       "version_major": 2,
       "version_minor": 0
      },
      "text/plain": [
       "tokenizer.json:   0%|          | 0.00/1.84M [00:00<?, ?B/s]"
      ]
     },
     "metadata": {},
     "output_type": "display_data"
    },
    {
     "data": {
      "application/vnd.jupyter.widget-view+json": {
       "model_id": "c53b46914e7d4806aa05d9f78c94ca8a",
       "version_major": 2,
       "version_minor": 0
      },
      "text/plain": [
       "special_tokens_map.json:   0%|          | 0.00/414 [00:00<?, ?B/s]"
      ]
     },
     "metadata": {},
     "output_type": "display_data"
    }
   ],
   "source": [
    "#repo_id = \"mistralai/Mistral-7B-Instruct-v0.2\"\n",
    "# repo_id=\"HuggingFaceH4/zephyr-7b-beta\"\n",
    "#repo_id=\"mistralai/Mixtral-8x7B-Instruct-v0.1\"\n",
    "#repo_id=\"microsoft/phi-2\"\n",
    "repo_id=\"meta-llama/Llama-2-70b-chat-hf\"\n",
    "\n",
    "llm = HuggingFaceEndpoint(\n",
    "    repo_id=repo_id, \n",
    "    temperature=0.3, \n",
    "    max_new_tokens=512,\n",
    "    top_k=30,\n",
    "    repetition_penalty=1.03\n",
    ")\n",
    "\n",
    "chat = ChatHuggingFace(llm=llm)"
   ]
  },
  {
   "cell_type": "code",
   "execution_count": 4,
   "id": "2c474e0d-e9a5-457f-8608-b1b261bd851e",
   "metadata": {},
   "outputs": [
    {
     "name": "stdout",
     "output_type": "stream",
     "text": [
      "The output should be formatted as a JSON instance that conforms to the JSON schema below.\n",
      "\n",
      "As an example, for the schema {\"properties\": {\"foo\": {\"title\": \"Foo\", \"description\": \"a list of strings\", \"type\": \"array\", \"items\": {\"type\": \"string\"}}}, \"required\": [\"foo\"]}\n",
      "the object {\"foo\": [\"bar\", \"baz\"]} is a well-formatted instance of the schema. The object {\"properties\": {\"foo\": [\"bar\", \"baz\"]}} is not well-formatted.\n",
      "\n",
      "Here is the output schema:\n",
      "```\n",
      "{\"properties\": {\"Meaning\": {\"title\": \"Meaning\", \"description\": \"Briefly explain its figurative meaning\", \"type\": \"string\"}, \"context\": {\"title\": \"Context\", \"description\": \"Describe how it's used in conversation or writing\", \"type\": \"string\"}, \"Origin\": {\"title\": \"Origin\", \"type\": \"array\", \"items\": {\"$ref\": \"#/definitions/Origin\"}}}, \"required\": [\"Meaning\", \"context\", \"Origin\"], \"definitions\": {\"Origin\": {\"title\": \"Origin\", \"type\": \"object\", \"properties\": {\"etymology\": {\"title\": \"Etymology\", \"description\": \"Provide historical context, cultural references, or etymological information\", \"type\": \"string\"}, \"anecdotes\": {\"title\": \"Anecdotes\", \"description\": \"Include interesting stories, anecdotes, or theories about its origin\", \"type\": \"string\"}}, \"required\": [\"etymology\", \"anecdotes\"]}}}\n",
      "```\n"
     ]
    },
    {
     "data": {
      "text/plain": [
       "{'properties': {'Meaning': {'title': 'Meaning',\n",
       "   'description': 'Break a leg is a phrase used to wish someone good luck, especially in the context of a performance or an audition.',\n",
       "   'type': 'string'},\n",
       "  'context': {'title': 'Context',\n",
       "   'description': 'Break a leg is often used in the context of theater, where it is believed to have originated. It is also used in other performance settings, such as music, dance, or public speaking.',\n",
       "   'type': 'string'},\n",
       "  'Origin': {'title': 'Origin',\n",
       "   'type': 'array',\n",
       "   'items': [{'$ref': '#/definitions/Origin'}]}},\n",
       " 'required': ['Meaning', 'context', 'Origin'],\n",
       " 'definitions': {'Origin': {'title': 'Origin',\n",
       "   'type': 'object',\n",
       "   'properties': {'etymology': {'title': 'Etymology',\n",
       "     'description': 'The phrase break a leg is thought to have originated in the theater, where it was used as a way to wish actors good luck before a performance. The phrase is believed to have been used as early as the 19th century.',\n",
       "     'type': 'string'},\n",
       "    'anecdotes': {'title': 'Anecdotes',\n",
       "     'description': \"One theory about the origin of the phrase break a leg is that it comes from the idea that actors would be so successful that they would be asked to perform on Broadway, which is often referred to as the 'leg' of the theater world.\",\n",
       "     'type': 'string'}},\n",
       "   'required': ['etymology', 'anecdotes']}}}"
      ]
     },
     "execution_count": 4,
     "metadata": {},
     "output_type": "execute_result"
    }
   ],
   "source": [
    "class Origin(BaseModel):\n",
    "    etymology: str = Field(description=\"Provide historical context, cultural references, or etymological information\")\n",
    "    anecdotes: str = Field(description=\"Include interesting stories, anecdotes, or theories about its origin\")\n",
    "\n",
    "class Idiom(BaseModel):\n",
    "    Meaning: str = Field(description=\"Briefly explain its figurative meaning\")\n",
    "    context: str =  Field(description=\"Describe how it's used in conversation or writing\")\n",
    "    Origin: list[Origin]\n",
    "\n",
    "\n",
    "idiom_query = \"Break a leg\"\n",
    "\n",
    "# Set up a parser + inject instructions into the prompt template.\n",
    "parser = JsonOutputParser(pydantic_object=Idiom)\n",
    "\n",
    "print(parser.get_format_instructions())\n",
    "\n",
    "prompt = PromptTemplate(\n",
    "    template=\"For a given idiom or proverb:\\n{format_instructions}\\n{query}\\n\",\n",
    "    input_variables=[\"query\"],\n",
    "    partial_variables={\"format_instructions\": parser.get_format_instructions()},\n",
    ")\n",
    "\n",
    "parser.get_format_instructions()\n",
    "chain = prompt | chat | parser\n",
    "\n",
    "chain.invoke({\"query\": idiom_query})"
   ]
  },
  {
   "cell_type": "code",
   "execution_count": null,
   "id": "67f8aeea-6243-4dda-ae85-f701b68513fd",
   "metadata": {},
   "outputs": [],
   "source": []
  },
  {
   "cell_type": "code",
   "execution_count": null,
   "id": "67af34e5-99dc-4057-80e9-24d495e1b3e3",
   "metadata": {},
   "outputs": [],
   "source": []
  }
 ],
 "metadata": {
  "kernelspec": {
   "display_name": "Python 3 (ipykernel)",
   "language": "python",
   "name": "python3"
  },
  "language_info": {
   "codemirror_mode": {
    "name": "ipython",
    "version": 3
   },
   "file_extension": ".py",
   "mimetype": "text/x-python",
   "name": "python",
   "nbconvert_exporter": "python",
   "pygments_lexer": "ipython3",
   "version": "3.10.6"
  }
 },
 "nbformat": 4,
 "nbformat_minor": 5
}
