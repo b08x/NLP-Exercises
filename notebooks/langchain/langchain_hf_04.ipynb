{
 "cells": [
  {
   "cell_type": "code",
   "execution_count": 14,
   "id": "12b7b3e8-a7f8-439c-b46d-d65159e51d75",
   "metadata": {},
   "outputs": [],
   "source": [
    "import dotenv \n",
    "import os\n",
    "\n",
    "dotenv.load_dotenv()\n",
    "\n",
    "os.environ[\"DEBUG\"] = \"1\"  # Set to \"1\" if you want to use debug mode.\n",
    "os.environ[\"HUGGINGFACEHUB_API_TOKEN\"] = os.getenv(\"HUGGINGFACEHUB_API_TOKEN\")\n",
    "\n",
    "from huggingface_hub.hf_api import HfFolder\n",
    "HfFolder.save_token(os.environ[\"HUGGINGFACEHUB_API_TOKEN\"])\n"
   ]
  },
  {
   "cell_type": "code",
   "execution_count": 15,
   "id": "47c238d8-f24c-4c74-8171-c21435c82ce0",
   "metadata": {},
   "outputs": [],
   "source": [
    "from langchain_community.llms import HuggingFaceEndpoint\n",
    "from langchain_community.chat_models.huggingface import ChatHuggingFace\n",
    "from langchain.chains import LLMChain\n",
    "from langchain.prompts import PromptTemplate"
   ]
  },
  {
   "cell_type": "code",
   "execution_count": 16,
   "id": "e67d60a2-5004-4c69-945a-c50a96c415fe",
   "metadata": {},
   "outputs": [],
   "source": [
    "# question = \"Who won the FIFA World Cup in the year 1994? \"\n",
    "\n",
    "# template = \"\"\"Question: {question}\n",
    "\n",
    "# Answer: Let's think step by step.\"\"\"\n",
    "\n",
    "# prompt = PromptTemplate.from_template(template)"
   ]
  },
  {
   "cell_type": "code",
   "execution_count": 17,
   "id": "afe1659f-eef0-4d49-8933-163a0c565386",
   "metadata": {},
   "outputs": [
    {
     "name": "stdout",
     "output_type": "stream",
     "text": [
      "Token has not been saved to git credential helper. Pass `add_to_git_credential=True` if you want to set the git credential as well.\n",
      "Token is valid (permission: write).\n",
      "Your token has been saved to /home/jovyan/.cache/huggingface/token\n",
      "Login successful\n"
     ]
    }
   ],
   "source": [
    "repo_id = \"mistralai/Mistral-7B-Instruct-v0.2\"\n",
    "\n",
    "llm = HuggingFaceEndpoint(\n",
    "    repo_id=\"HuggingFaceH4/zephyr-7b-beta\",\n",
    "    task=\"text-generation\",\n",
    "    max_new_tokens=512,\n",
    "    top_k= 30,\n",
    "    temperature=0.1,\n",
    "    repetition_penalty=1.03,\n",
    ")\n",
    "\n",
    "\n",
    "# llm_chain = LLMChain(prompt=prompt, llm=llm)\n",
    "# print(llm_chain.run(question))"
   ]
  },
  {
   "cell_type": "code",
   "execution_count": 23,
   "id": "169205e4-25a6-49a8-aa04-0ff5d60d4dba",
   "metadata": {},
   "outputs": [
    {
     "name": "stdout",
     "output_type": "stream",
     "text": [
      "\"Break a leg\" is a common idiom used to wish someone good luck, particularly in the performing arts. The phrase is figurative and does not literally mean that one hopes the person will suffer a bone fracture. Instead, it is a humorous way of saying \"I hope you have a successful performance.\"\n",
      "\n",
      "The origin of this expression is unclear, but there are a few theories. One popular explanation is that it stems from the superstition that speaking aloud about misfortune can bring it upon oneself. In the past, actors would avoid saying \"good luck\" for fear of jinxing themselves, so instead, they would say \"break a leg,\" which is less fortunate-sounding but still conveys the sentiment.\n",
      "\n",
      "Another theory suggests that the phrase originated in the early 20th century when theaters did not have proper lighting systems. Actors would sometimes trip over props or other obstacles on stage, causing them to break a leg. This led to the expression being used as a sarcastic wish for bad luck, which eventually evolved into a well-meaning expression of good luck.\n",
      "\n",
      "Regardless of its origins, \"break a leg\" is now widely recognized as a lighthearted and humorous way to wish someone success, particularly in the performing arts. It is often used in theater productions, dance recitals, and other live performances as a way to acknowledge the nervousness and excitement that performers may be feeling.\n"
     ]
    }
   ],
   "source": [
    "from langchain_core.prompts import ChatPromptTemplate\n",
    "from langchain.prompts import HumanMessagePromptTemplate\n",
    "from langchain_core.messages import SystemMessage\n",
    "\n",
    "chat_model = ChatHuggingFace(llm=llm)\n",
    "\n",
    "prompt = ChatPromptTemplate.from_messages(\n",
    "    [\n",
    "        SystemMessage(\n",
    "            content=(\n",
    "                \"Explain the meaning and origin of a user-provided idiom or proverb, including its figurative meaning, typical usage, historical context, and any interesting origin stories\"\n",
    "            )\n",
    "        ),\n",
    "        HumanMessagePromptTemplate.from_template(\"{text}\"),\n",
    "    ]\n",
    ")\n",
    "\n",
    "chain = prompt | chat_model\n",
    "\n",
    "llm_chain = LLMChain(prompt=prompt, llm=chat_model)\n",
    "\n",
    "print(llm_chain.run(\"Break a leg\"))\n",
    "\n",
    "# messages = prompt.format_messages(text=\"Once in blue moon\")\n",
    "\n"
   ]
  },
  {
   "cell_type": "code",
   "execution_count": null,
   "id": "8fe0459e-979c-4f8e-892f-5bfbb516fd6d",
   "metadata": {},
   "outputs": [],
   "source": []
  }
 ],
 "metadata": {
  "kernelspec": {
   "display_name": "Python 3 (ipykernel)",
   "language": "python",
   "name": "python3"
  },
  "language_info": {
   "codemirror_mode": {
    "name": "ipython",
    "version": 3
   },
   "file_extension": ".py",
   "mimetype": "text/x-python",
   "name": "python",
   "nbconvert_exporter": "python",
   "pygments_lexer": "ipython3",
   "version": "3.10.6"
  }
 },
 "nbformat": 4,
 "nbformat_minor": 5
}
