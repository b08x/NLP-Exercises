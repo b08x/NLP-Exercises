{
 "cells": [
  {
   "cell_type": "code",
   "execution_count": null,
   "id": "78bf2dde-e132-4580-924a-2d441c7396dc",
   "metadata": {},
   "outputs": [],
   "source": [
    "!pip install llama-parse\n"
   ]
  },
  {
   "cell_type": "code",
   "execution_count": null,
   "id": "57d108d3-3862-4c78-bbe5-4ca0c7c9bf6f",
   "metadata": {},
   "outputs": [],
   "source": [
    "import nest_asyncio\n",
    "nest_asyncio.apply()\n",
    "\n",
    "import dotenv \n",
    "import os\n",
    "\n",
    "dotenv.load_dotenv()\n",
    "\n",
    "from llama_parse import LlamaParse\n",
    "\n",
    "parser = LlamaParse(\n",
    "    api_key=os.getenv(\"LLAMAPARSE_API_KEY\"),  # can also be set in your env as LLAMA_CLOUD_API_KEY\n",
    "    result_type=\"markdown\"  # \"markdown\" and \"text\" are available\n",
    ")\n",
    "\n",
    "\n",
    "docu = parser.load_data('./Mediation_of_Musical_Meaning_and_Emotions_Through_AI_Music_Creation_Assistant_Software.pdf')"
   ]
  },
  {
   "cell_type": "code",
   "execution_count": null,
   "id": "ee69c123-1b1e-42c3-b5af-586ebb099c69",
   "metadata": {},
   "outputs": [],
   "source": [
    "markdown_file = open(\"Mediation_of_Musical_Storytelling.md\", \"w\")\n",
    "\n",
    "markdown_file.write(docu[0].text)\n",
    "markdown_file.close()  # to change file access modes\n",
    "\n",
    "md_file_check = open(\"Mediation_of_Musical_Storytelling.md\", \"r+\")\n",
    " \n",
    "print(\"Output of Read function is \")\n",
    "print(md_file_check.read())\n",
    "print()\n",
    "\n",
    "#print(docu[0].text)"
   ]
  },
  {
   "cell_type": "code",
   "execution_count": null,
   "id": "e5a531a0-5978-4e39-a9cb-f215ae1236e4",
   "metadata": {},
   "outputs": [],
   "source": []
  }
 ],
 "metadata": {
  "kernelspec": {
   "display_name": "Python 3 (ipykernel)",
   "language": "python",
   "name": "python3"
  },
  "language_info": {
   "codemirror_mode": {
    "name": "ipython",
    "version": 3
   },
   "file_extension": ".py",
   "mimetype": "text/x-python",
   "name": "python",
   "nbconvert_exporter": "python",
   "pygments_lexer": "ipython3",
   "version": "3.11.8"
  }
 },
 "nbformat": 4,
 "nbformat_minor": 5
}
