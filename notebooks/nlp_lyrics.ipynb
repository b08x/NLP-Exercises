{
 "cells": [
  {
   "cell_type": "code",
   "execution_count": 4,
   "id": "62637eff-3eca-4c79-b6fb-dcd9ee2cbdf4",
   "metadata": {},
   "outputs": [
    {
     "data": {
      "text/plain": [
       "\"Successfully installed lingua-0.6.2\\n1 gem installed\\n\""
      ]
     },
     "execution_count": 4,
     "metadata": {},
     "output_type": "execute_result"
    }
   ],
   "source": [
    "`gem install lingua`"
   ]
  },
  {
   "cell_type": "code",
   "execution_count": 1,
   "id": "4725bdd6-aea9-4db1-a721-0d2a0a7ad7e0",
   "metadata": {},
   "outputs": [
    {
     "data": {
      "text/plain": [
       "true"
      ]
     },
     "execution_count": 1,
     "metadata": {},
     "output_type": "execute_result"
    }
   ],
   "source": [
    "\n",
    "require 'composable_operations'\n",
    "require 'lemmatizer'\n",
    "require 'lingua'\n",
    "require 'pragmatic_segmenter'\n",
    "require 'pragmatic_tokenizer'\n",
    "require 'ruby-spacy'\n",
    "require 'wordnet'\n"
   ]
  },
  {
   "cell_type": "code",
   "execution_count": 3,
   "id": "0efaa32c-6458-4590-bd0f-d9d5d63ef4ba",
   "metadata": {},
   "outputs": [
    {
     "data": {
      "text/plain": [
       "\"Kernel panic, static, attic full of open source magic,\\nCommand line acrobatics, shell syntax tactics,\\nWithin the crypt of cryptic scripts, branches split and flip\\nPull and merge tricks, where bugs get a fix and slip.\\n\\nRelaxing on the echo of your echo, not so much unlike when the loops compute and dont flip on their condition in obstructive dispute. In the depths of code, a tale unfolds, gripping the command line, don't mind, fingers will turn cold.\\n\\nMerging blurred lines of vision, refactoring enumerable recursions. with algorithmic eyes, paved with sleepless nights, to know an idea will have the mind make no other sense other than drive. concepts dissected, projected, connected\""
      ]
     },
     "execution_count": 3,
     "metadata": {},
     "output_type": "execute_result"
    }
   ],
   "source": [
    "text = \"Kernel panic, static, attic full of open source magic,\n",
    "Command line acrobatics, shell syntax tactics,\n",
    "Within the crypt of cryptic scripts, branches split and flip\n",
    "Pull and merge tricks, where bugs get a fix and slip.\n",
    "\n",
    "Relaxing on the echo of your echo, not so much unlike when the loops compute and dont flip on their condition in obstructive dispute. In the depths of code, a tale unfolds, gripping the command line, don't mind, fingers will turn cold.\n",
    "\n",
    "Merging blurred lines of vision, refactoring enumerable recursions. with algorithmic eyes, paved with sleepless nights, to know an idea will have the mind make no other sense other than drive. concepts dissected, projected, connected\"\n",
    "\n",
    "# content = Lingua::EN::Readability.new(text)"
   ]
  },
  {
   "cell_type": "code",
   "execution_count": 3,
   "id": "09d2a426-4f47-4e11-b72d-0d2ab8849b51",
   "metadata": {},
   "outputs": [],
   "source": [
    "# p content.methods"
   ]
  },
  {
   "cell_type": "code",
   "execution_count": null,
   "id": "b0f277aa-2ee1-466e-ad86-53f890169c6d",
   "metadata": {},
   "outputs": [],
   "source": [
    "# get the POS of each word of the phrase processed with wordnet\n",
    "# nlp = Spacy::Language.new(\"en_core_web_sm\")\n"
   ]
  },
  {
   "cell_type": "code",
   "execution_count": 5,
   "id": "f770e76a-e641-4c5d-9c92-ce5e5273b767",
   "metadata": {},
   "outputs": [
    {
     "data": {
      "text/plain": [
       "#<WordNet::Lexicon:0x4790 sqlite:/home/jovyan/.local/share/gem/ruby/3.1.0/gems/wordnet-defaultdb-2.0.1/data/wordnet-defaultdb/wordnet31.sqlite>"
      ]
     },
     "execution_count": 5,
     "metadata": {},
     "output_type": "execute_result"
    }
   ],
   "source": [
    "lexicon = WordNet::Lexicon.new "
   ]
  },
  {
   "cell_type": "code",
   "execution_count": 25,
   "id": "b7b319a1-c7db-4c52-ada6-bcd243d9b9cf",
   "metadata": {},
   "outputs": [
    {
     "data": {
      "text/plain": [
       "[#<WordNet::Synset:0x4df8 {109644715} 'intellect, intellectual' (noun): [noun.person] a person who uses the mind creatively>, #<WordNet::Synset:0x4e20 {301335338} 'intellectual' (adjective): [adj.all] appealing to or using the intellect>, #<WordNet::Synset:0x4e48 {301784888} 'intellectual, noetic, rational' (adjective satellite): [adj.all] of or associated with or requiring the use of the mind>, #<WordNet::Synset:0x4e70 {301933854} 'cerebral, intellectual' (adjective): [adj.all] involving intelligence rather than emotions or instinct>]"
      ]
     },
     "execution_count": 25,
     "metadata": {},
     "output_type": "execute_result"
    }
   ],
   "source": [
    "synsets = lexicon.lookup_synsets('intellectual')"
   ]
  },
  {
   "cell_type": "code",
   "execution_count": 19,
   "id": "566db79f-cd75-4642-b838-3fdc07332fb0",
   "metadata": {},
   "outputs": [
    {
     "data": {
      "text/plain": [
       "[\"cerebral\", \"intellectual\"]"
      ]
     },
     "execution_count": 19,
     "metadata": {},
     "output_type": "execute_result"
    }
   ],
   "source": [
    "keywords = []\n",
    "synsets.each do |synset|\n",
    "    keywords += synset.words.map(&:lemma) # Synonyms\n",
    "\n",
    "    synset.hyponyms.each do |hyponym_set|\n",
    "        keywords += hyponym_set.words.map(&:lemma)\n",
    "    end\n",
    "end\n",
    "\n",
    "keywords.uniq! # Remove duplicates\n"
   ]
  },
  {
   "cell_type": "code",
   "execution_count": 20,
   "id": "b802f787-e409-4f55-852b-ba59e223b493",
   "metadata": {},
   "outputs": [
    {
     "name": "stdout",
     "output_type": "stream",
     "text": [
      "[\"cerebral\", \"intellectual\"]\n"
     ]
    },
    {
     "data": {
      "text/plain": [
       "[\"cerebral\", \"intellectual\"]"
      ]
     },
     "execution_count": 20,
     "metadata": {},
     "output_type": "execute_result"
    }
   ],
   "source": [
    "p keywords"
   ]
  },
  {
   "cell_type": "code",
   "execution_count": 46,
   "id": "2b1e77a3-27ea-4d69-8522-226683e8222e",
   "metadata": {},
   "outputs": [
    {
     "data": {
      "text/plain": [
       "[#<WordNet::Synset:0x5460 {300495505} 'individual, single' (adjective): [adj.all] being or characteristic of a single thing or person>]"
      ]
     },
     "execution_count": 46,
     "metadata": {},
     "output_type": "execute_result"
    }
   ],
   "source": [
    "word1_syns = lexicon.lookup_synsets( 'intellectual', :adjective )\n",
    "word2_syns = lexicon.lookup_synsets( 'individual', :adjective )"
   ]
  },
  {
   "cell_type": "code",
   "execution_count": 47,
   "id": "8457bf6a-59c3-4047-9853-0318149572b1",
   "metadata": {},
   "outputs": [
    {
     "name": "stdout",
     "output_type": "stream",
     "text": [
      ">>> Searching with intellectual as the origin.\n",
      "  Comparing individual, single to the origin.\n",
      "#<WordNet::Synset:0x5488 {301335338} 'intellectual' (adjective): [adj.all] appealing to or using the intellect>\n",
      "[#<WordNet::Synset:0x54b0 {301335859} 'highbrow, highbrowed' (adjective satellite): [adj.all] highly cultured or educated>, #<WordNet::Synset:0x54d8 {301336070} 'rational' (adjective satellite): [adj.all] having its source in or being guided by the intellect (as distinguished from experience or emotion)>, #<WordNet::Synset:0x5500 {301336283} 'reflective' (adjective satellite): [adj.all] devoted to matters of the mind>, #<WordNet::Synset:0x5528 {301336429} 'good, serious' (adjective satellite): [adj.all] appealing to the mind>, #<WordNet::Synset:0x5550 {301336561} 'sophisticated' (adjective satellite): [adj.all] intellectually appealing>]\n",
      "[#<WordNet::Synset:0x5578 {300495865} 'idiosyncratic' (adjective satellite): [adj.all] peculiar to the individual>, #<WordNet::Synset:0x55a0 {300496072} 'individualist, individualistic' (adjective satellite): [adj.all] marked by or expressing individuality>, #<WordNet::Synset:0x55c8 {300496243} 'man-to-man, one-on-one' (adjective satellite): [adj.all] being a system of play in which an individual defensive player guards an individual offensive player>, #<WordNet::Synset:0x55f0 {300496454} 'respective, several, various' (adjective satellite): [adj.all] considered individually>, #<WordNet::Synset:0x5618 {300496667} 'singular' (adjective satellite): [adj.all] being a single and separate person or thing>]\n",
      "    No synsets in common.\n",
      "  done with [\"intellectual\"]\n",
      ">>> Searching with cerebral, intellectual as the origin.\n",
      "  Comparing individual, single to the origin.\n",
      "#<WordNet::Synset:0x5640 {301933854} 'cerebral, intellectual' (adjective): [adj.all] involving intelligence rather than emotions or instinct>\n",
      "[]\n",
      "[#<WordNet::Synset:0x5668 {300495865} 'idiosyncratic' (adjective satellite): [adj.all] peculiar to the individual>, #<WordNet::Synset:0x5690 {300496072} 'individualist, individualistic' (adjective satellite): [adj.all] marked by or expressing individuality>, #<WordNet::Synset:0x56b8 {300496243} 'man-to-man, one-on-one' (adjective satellite): [adj.all] being a system of play in which an individual defensive player guards an individual offensive player>, #<WordNet::Synset:0x56e0 {300496454} 'respective, several, various' (adjective satellite): [adj.all] considered individually>, #<WordNet::Synset:0x5708 {300496667} 'singular' (adjective satellite): [adj.all] being a single and separate person or thing>]\n",
      "    No synsets in common.\n",
      "  done with [\"cerebral\", \"intellectual\"]\n"
     ]
    },
    {
     "data": {
      "text/plain": [
       "[#<WordNet::Synset:0x5488 {301335338} 'intellectual' (adjective): [adj.all] appealing to or using the intellect>, #<WordNet::Synset:0x5640 {301933854} 'cerebral, intellectual' (adjective): [adj.all] involving intelligence rather than emotions or instinct>]"
      ]
     },
     "execution_count": 47,
     "metadata": {},
     "output_type": "execute_result"
    }
   ],
   "source": [
    "# Use the analyzer to traverse hypernyms of the synset, adding a string for each\n",
    "# one with indentation for the level\n",
    "word1_syns.each do |syn|\n",
    "\tputs \">>> Searching with #{syn.wordlist.join(', ')} as the origin.\"\n",
    "\n",
    "\tword2_syns.each do |syn2|\n",
    "\t\tputs \"  Comparing #{syn2.wordlist.join(', ')} to the origin.\"\n",
    "\n",
    "\t\t# The intersection of the two synsets is the most-specific hypernym they\n",
    "\t\t# share in common.\n",
    "\t\tcommon_syn = (syn | syn2)\n",
    "        p syn\n",
    "        #p syn2.methods\n",
    "        #p syn2.hypernyms\n",
    "        #p syn2.hyponyms\n",
    "        p syn.similar_words\n",
    "        p syn2.similar_words\n",
    "\t\t# Skip common synsets that are too abstract\n",
    "\t\tif common_syn && common_syn.lexical_domain != 'noun.tops'\n",
    "\t\t\tputs syn, syn2, '  ' + common_syn.to_s, ''\n",
    "\t\telse\n",
    "\t\t\tputs \"    No synsets in common.\"\n",
    "\t\tend\n",
    "\tend\n",
    "\n",
    "\tputs \"  done with #{syn.wordlist}\"\n",
    "end"
   ]
  },
  {
   "cell_type": "code",
   "execution_count": 33,
   "id": "acd230a8-8774-40da-99be-5c74462d049f",
   "metadata": {},
   "outputs": [
    {
     "data": {
      "text/plain": [
       ":execute"
      ]
     },
     "execution_count": 33,
     "metadata": {},
     "output_type": "execute_result"
    }
   ],
   "source": [
    "\n",
    "class WordSenses < ComposableOperations::ComposedOperation\n",
    "  processes :word\n",
    "\n",
    "  before do\n",
    "    @lexicon = WordNet::Lexicon.new\n",
    "  end\n",
    "\n",
    "  def hypernyms\n",
    "    @origins.each_with_index do |syn, _idx|\n",
    "      @hypernyms = []\n",
    "      # Traverse the hypernyms\n",
    "      syn.traverse(:hypernyms).with_depth.each do |hyper_syn, depth|\n",
    "        indent = \"  \" * depth\n",
    "        @hypernyms << format(\"%s%s\", indent, hyper_syn)\n",
    "      end\n",
    "      puts \"Tree has #{@hypernyms.length} synsets.\"\n",
    "    end\n",
    "    @hypernyms\n",
    "  end\n",
    "\n",
    "  def execute\n",
    "    @origins = @lexicon.lookup_synsets(word, :noun)\n",
    "    hypernyms\n",
    "  end\n",
    "end\n",
    "\n",
    "\n",
    "class Lemma < ComposableOperations::Operation\n",
    "  processes :word\n",
    "\n",
    "  before do\n",
    "    @lem = Lemmatizer.new\n",
    "  end\n",
    "\n",
    "  def execute\n",
    "    @lem.lemma(word)\n",
    "  end\n",
    "end\n"
   ]
  },
  {
   "cell_type": "code",
   "execution_count": 34,
   "id": "652d1033-e36e-4736-811a-92094a6dd38c",
   "metadata": {},
   "outputs": [
    {
     "name": "stdout",
     "output_type": "stream",
     "text": [
      "Tree has 10 synsets.\n"
     ]
    },
    {
     "data": {
      "text/plain": [
       "[\"  individual, mortal, person, somebody, someone, soul (noun): [noun.tops] a human being (hypernym: 2, hyponym: 412, member meronym: 1, part holonym: 2)\", \"    being, organism (noun): [noun.tops] a living thing that has (or can develop) the ability to act or function independently (domain member category: 9, hypernym: 1, hyponym: 48, part holonym: 2, substance holonym: 1)\", \"      animate thing, living thing (noun): [noun.tops] a living (or once living) entity (domain member category: 2, hypernym: 1, hyponym: 4)\", \"        unit, whole (noun): [noun.tops] an assemblage of parts that is regarded as a single entity (hypernym: 1, hyponym: 7, part holonym: 2)\", \"          object, physical object (noun): [noun.tops] a tangible and visible entity; an entity that can cast a shadow (hypernym: 1, hyponym: 37)\", \"            physical entity (noun): [noun.tops] an entity that has physical existence (hypernym: 1, hyponym: 6)\", \"              entity (noun): [noun.tops] that which is perceived or known or inferred to have its own distinct existence (living or nonliving) (hyponym: 3)\", \"    causal agency, causal agent, cause (noun): [noun.tops] any entity that produces an effect or is responsible for events or results (hypernym: 1, hyponym: 16)\", \"      physical entity (noun): [noun.tops] an entity that has physical existence (hypernym: 1, hyponym: 6)\", \"        entity (noun): [noun.tops] that which is perceived or known or inferred to have its own distinct existence (living or nonliving) (hyponym: 3)\"]"
      ]
     },
     "execution_count": 34,
     "metadata": {},
     "output_type": "execute_result"
    }
   ],
   "source": [
    "WordSenses.perform(\"intellectual\")"
   ]
  },
  {
   "cell_type": "code",
   "execution_count": 48,
   "id": "34daf0b3-2e1f-4af7-bb7e-a8036d043a97",
   "metadata": {},
   "outputs": [
    {
     "data": {
      "text/plain": [
       "\"cerebral\""
      ]
     },
     "execution_count": 48,
     "metadata": {},
     "output_type": "execute_result"
    }
   ],
   "source": [
    "Lemma.perform(\"cerebral\")"
   ]
  },
  {
   "cell_type": "code",
   "execution_count": 56,
   "id": "a3e05582-a9db-42fb-b329-ac6d6ec9ca14",
   "metadata": {},
   "outputs": [
    {
     "name": "stdout",
     "output_type": "stream",
     "text": [
      "[#<WordNet::Synset:0x5d48 {105116811} 'accompaniment, complement' (noun): [noun.attribute] something added to complete or embellish or make perfect>, #<WordNet::Synset:0x5d70 {105704262} 'complement' (noun): [noun.cognition] either of two parts that mutually complete each other>, #<WordNet::Synset:0x5d98 {106326631} 'complement' (noun): [noun.communication] a word or phrase used to complete a grammatical construction>, #<WordNet::Synset:0x5dc0 {108235133} 'complement, full complement' (noun): [noun.group] number needed to make up a whole force>, #<WordNet::Synset:0x5de8 {113613201} 'complement' (noun): [noun.quantity] a complete number or quantity>, #<WordNet::Synset:0x5e10 {114760380} 'complement' (noun): [noun.substance] one of a series of enzymes in the blood serum that are part of the immune response>, #<WordNet::Synset:0x5e38 {200456874} 'complement' (verb): [verb.change] make complete or perfect; supply what is wanting or form the complement to>]\n",
      "accompaniment, complement (noun): [noun.attribute] something added to complete or embellish or make perfect (hypernym: 1)\n",
      "complement (noun): [noun.cognition] either of two parts that mutually complete each other (hypernym: 1)\n",
      "complement (noun): [noun.communication] a word or phrase used to complete a grammatical construction (hypernym: 1)\n",
      "complement, full complement (noun): [noun.group] number needed to make up a whole force (hypernym: 1, hyponym: 1)\n",
      "complement (noun): [noun.quantity] a complete number or quantity (hypernym: 1)\n",
      "complement (noun): [noun.substance] one of a series of enzymes in the blood serum that are part of the immune response (hypernym: 1, part meronym: 1)\n",
      "complement (verb): [verb.change] make complete or perfect; supply what is wanting or form the complement to (hypernym: 1)\n",
      "[#<WordNet::Synset:0x5e60 {106297048} 'word' (noun): [noun.communication] a unit of language that native speakers can identify>, #<WordNet::Synset:0x5e88 {106443410} 'bible, book, christian bible, good book, holy scripture, holy writ, scripture, word, word of god' (noun): [noun.communication] the sacred writings of the Christian religions>, #<WordNet::Synset:0x5eb0 {106654787} 'intelligence, news, tidings, word' (noun): [noun.communication] information about recent and important events>, #<WordNet::Synset:0x5ed8 {106686933} 'countersign, parole, password, watchword, word' (noun): [noun.communication] a secret word or phrase known only to a restricted group>, #<WordNet::Synset:0x5f00 {106750911} 'word' (noun): [noun.communication] a brief statement>, #<WordNet::Synset:0x5f28 {107155367} 'discussion, give-and-take, word' (noun): [noun.communication] an exchange of views on some topic>, #<WordNet::Synset:0x5f50 {107183893} 'word' (noun): [noun.communication] a verbal command for action>, #<WordNet::Synset:0x5f78 {107241961} 'parole, word, word of honor' (noun): [noun.communication] a promise>, #<WordNet::Synset:0x5fa0 {109560255} 'logos, son, word' (noun): [noun.person] the divine word of God; the second person in the Trinity (incarnate in Jesus)>, #<WordNet::Synset:0x5fc8 {113648798} 'word' (noun): [noun.quantity] a string of bits stored in computer memory>, #<WordNet::Synset:0x5ff0 {200982485} 'articulate, formulate, give voice, phrase, word' (verb): [verb.communication] put into words or an expression>]\n",
      "word (noun): [noun.communication] a unit of language that native speakers can identify (hypernym: 1, hyponym: 55, part holonym: 2)\n",
      "bible, book, christian bible, good book, holy scripture, holy writ, scripture, word, word of god (noun): [noun.communication] the sacred writings of the Christian religions (domain member category: 6, hypernym: 1, hyponym: 1, instance hyponym: 7, part holonym: 4)\n",
      "intelligence, news, tidings, word (noun): [noun.communication] information about recent and important events (hypernym: 1, hyponym: 2)\n",
      "countersign, parole, password, watchword, word (noun): [noun.communication] a secret word or phrase known only to a restricted group (hypernym: 2)\n",
      "word (noun): [noun.communication] a brief statement (hypernym: 1)\n",
      "discussion, give-and-take, word (noun): [noun.communication] an exchange of views on some topic (hypernym: 1, hyponym: 7)\n",
      "word (noun): [noun.communication] a verbal command for action (hypernym: 1)\n",
      "parole, word, word of honor (noun): [noun.communication] a promise (hypernym: 1)\n",
      "logos, son, word (noun): [noun.person] the divine word of God; the second person in the Trinity (incarnate in Jesus) (instance hypernym: 1, instance hyponym: 2)\n",
      "word (noun): [noun.quantity] a string of bits stored in computer memory (hypernym: 1, part holonym: 1, part meronym: 1)\n",
      "articulate, formulate, give voice, phrase, word (verb): [verb.communication] put into words or an expression (hypernym: 1, hyponym: 5)\n"
     ]
    }
   ],
   "source": [
    "require 'wordnet'\n",
    "\n",
    "module MalapropismDetector\n",
    "  class WordNetManager\n",
    "    def initialize\n",
    "      @wordnet = WordNet::Lexicon.new\n",
    "    end\n",
    "\n",
    "    def get_synsets(word)\n",
    "      @wordnet.lookup_synsets(word)\n",
    "    end\n",
    "  end\n",
    "\n",
    "  class MalapropismChecker\n",
    "    def initialize(wordnet_manager)\n",
    "      @wordnet_manager = wordnet_manager\n",
    "    end\n",
    "\n",
    "    def check_malapropism(word1, word2)\n",
    "      synsets1 = @wordnet_manager.get_synsets(word1)\n",
    "      synsets2 = @wordnet_manager.get_synsets(word2)\n",
    "\n",
    "      return false if synsets1.empty? || synsets2.empty?\n",
    "    \n",
    "        p synsets1\n",
    "\n",
    "      #synsets1.any? { |synset1| synsets2.any? { |synset2| synset1.lemma_names.include?(synset2.lemma_names.first) } }\n",
    "    end\n",
    "  end\n",
    "end\n",
    "\n",
    "# Usage example:\n",
    "\n",
    "wordnet_manager = MalapropismDetector::WordNetManager.new\n",
    "malapropism_checker = MalapropismDetector::MalapropismChecker.new(wordnet_manager)\n",
    "\n",
    "puts malapropism_checker.check_malapropism(\"complement\", \"compliment\") # true\n",
    "puts malapropism_checker.check_malapropism(\"word\", \"sentence\") # false"
   ]
  },
  {
   "cell_type": "code",
   "execution_count": 62,
   "id": "844a5e9b-5f70-41b2-bf83-9127e98f9c8b",
   "metadata": {},
   "outputs": [
    {
     "data": {
      "text/plain": [
       "#<Lemmatizer::Lemmatizer:0x000077a64c7864e0>"
      ]
     },
     "execution_count": 62,
     "metadata": {},
     "output_type": "execute_result"
    }
   ],
   "source": [
    "\n",
    "module MalapropismDetector\n",
    "  class Lemmatizer\n",
    "    def initialize\n",
    "      @lemmatizer = Lemmatizer.new\n",
    "    end\n",
    "\n",
    "    def lemma(word, part_of_speech = :verb)\n",
    "      @lemmatizer.lemma(word, part_of_speech)\n",
    "    end\n",
    "  end\n",
    "\n",
    "#   class MalapropismChecker\n",
    "#     def initialize(lemmatizer)\n",
    "#       @lemmatizer = lemmatizer\n",
    "#     end\n",
    "\n",
    "#     def check_malapropism(word1, word2)\n",
    "#       lemma1 = @lemmatizer.lemma(word1)\n",
    "#       lemma2 = @lemmatizer.lemma(word2)\n",
    "\n",
    "#       return false if lemma1.nil? || lemma2.nil?\n",
    "\n",
    "#       lemma1.to_s.downcase == lemma2.to_s.downcase\n",
    "#     end\n",
    "#   end\n",
    "end\n",
    "\n",
    "# Usage example:\n",
    "\n",
    "l = Lemmatizer.new\n",
    "# malapropism_checker = MalapropismDetector::MalapropismChecker.new(lemmatizer)\n",
    "\n",
    "# puts malapropism_checker.check_malapropism(\"complement\", \"compliment\") # true\n",
    "# puts malapropism_checker.check_malapropism(\"word\", \"sentence\") # false"
   ]
  },
  {
   "cell_type": "code",
   "execution_count": 70,
   "id": "ec034a3a-9f5b-479d-83f1-cf26c229c314",
   "metadata": {},
   "outputs": [
    {
     "data": {
      "text/plain": [
       "\"sentence\""
      ]
     },
     "execution_count": 70,
     "metadata": {},
     "output_type": "execute_result"
    }
   ],
   "source": [
    "one = l.lemma(\"word\")\n",
    "two = l.lemma(\"sentence\")"
   ]
  },
  {
   "cell_type": "code",
   "execution_count": 71,
   "id": "2ec2afc8-2501-456f-b938-9e95bff78bbd",
   "metadata": {},
   "outputs": [
    {
     "data": {
      "text/plain": [
       "false"
      ]
     },
     "execution_count": 71,
     "metadata": {},
     "output_type": "execute_result"
    }
   ],
   "source": [
    "one == two"
   ]
  },
  {
   "cell_type": "code",
   "execution_count": null,
   "id": "633a21b1-8c61-4de4-85f3-db14de6aff60",
   "metadata": {},
   "outputs": [],
   "source": []
  }
 ],
 "metadata": {
  "kernelspec": {
   "display_name": "Ruby 3.1.4",
   "language": "ruby",
   "name": "ruby"
  },
  "language_info": {
   "file_extension": ".rb",
   "mimetype": "application/x-ruby",
   "name": "ruby",
   "version": "3.1.4"
  }
 },
 "nbformat": 4,
 "nbformat_minor": 5
}
