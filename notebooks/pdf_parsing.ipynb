{
 "cells": [
  {
   "cell_type": "code",
   "execution_count": 27,
   "id": "1f2a9cdc-761c-4101-86f2-fd23aa5a7e3d",
   "metadata": {},
   "outputs": [
    {
     "data": {
      "text/plain": [
       "false"
      ]
     },
     "execution_count": 27,
     "metadata": {},
     "output_type": "execute_result"
    }
   ],
   "source": [
    "require 'pdf_paradise'"
   ]
  },
  {
   "cell_type": "code",
   "execution_count": 46,
   "id": "9707d079-ac96-4127-a864-7277a76b1d73",
   "metadata": {},
   "outputs": [
    {
     "name": "stdout",
     "output_type": "stream",
     "text": [
      "\"/tmp/output\"\n",
      "\"A_Comprehensive_Survey_of_Hallucination_Mitigation_Techniques_in_Large_Language_Models.pdf\"\n",
      "\"A_Comprehensive_Survey_of_Hallucination_Mitigation_Techniques_in_Large_Language_Models\"\n"
     ]
    },
    {
     "data": {
      "text/plain": [
       "[\".\", \"..\", \"data-gym-cache\", \"tmpj9odc0gj\", \"llama_index\", \"tmp8l1ttocq\", \"A_Comprehensive_Survey_of_Hallucination_Mitigation_Techniques_in_Large_Language_Models.pdf\", \"hsperfdata_root\"]"
      ]
     },
     "execution_count": 46,
     "metadata": {},
     "output_type": "execute_result"
    }
   ],
   "source": [
    "temp_output = File.join(\"/tmp\", \"output\")\n",
    "p temp_output\n",
    "pdf_file = File.join(\"/home/jovyan/Library/Docs/papers/llm/A_Comprehensive_Survey_of_Hallucination_Mitigation_Techniques_in_Large_Language_Models.pdf\")\n",
    "\n",
    "\n",
    "p File.basename(pdf_file)\n",
    "\n",
    "\n",
    "p File.basename(pdf_file, \".\").gsub(File.extname(pdf_file), \"\")\n",
    "\n",
    "FileUtils.cp(pdf_file, \"/tmp/#{File.basename(pdf_file)}\")\n",
    "\n",
    "Dir.entries(\"/tmp\")\n"
   ]
  },
  {
   "cell_type": "code",
   "execution_count": 54,
   "id": "d8b0c254-978e-40ce-9299-82dc95705537",
   "metadata": {},
   "outputs": [
    {
     "name": "stdout",
     "output_type": "stream",
     "text": [
      "\u001b[38;2;70;130;180mpdftohtml -s /home/jovyan/.local/share/jupyter/runtime/kernel-0d6fc2ba-5427-43aa-b29c-5c25b7170f0e.json kernel-0d6fc2ba-5427-43aa-b29c-5c25b7170f0e.json_to_html.html\u001b[0m\n",
      "\"/tmp/output/\"\n",
      "\u001b[0;37mSetting the title of the .pdf file \u001b[38;2;106;90;205m/tmp/A_Comprehensive_Survey_of_Hallucination_Mitigation_Techniques_in_Large_Language_Models.pdf\u001b[0m \u001b[0;37mto:\n",
      "\n",
      "  \u001b[38;2;85;107;47mA Comprehensive Survey of Hallucination Mitigation Techniques in Large Language Models\u001b[0m\n",
      "\n",
      "\u001b[38;2;70;130;180mexiftool -charset UTF8 -overwrite_original -Title=\"A Comprehensive Survey of Hallucination Mitigation Techniques in Large Language Models\" /tmp/A_Comprehensive_Survey_of_Hallucination_Mitigation_Techniques_in_Large_Language_Models.pdf\u001b[0m\n",
      "\u001b[38;2;70;130;180mpdftohtml -s /tmp/A_Comprehensive_Survey_of_Hallucination_Mitigation_Techniques_in_Large_Language_Models.pdf A_Comprehensive_Survey_of_Hallucination_Mitigation_Techniques_in_Large_Language_Models.pdf_to_html.html\u001b[0m\n"
     ]
    },
    {
     "data": {
      "text/plain": [
       "[\"/tmp/A_Comprehensive_Survey_of_Hallucination_Mitigation_Techniques_in_Large_Language_Models.pdf\"]"
      ]
     },
     "execution_count": 54,
     "metadata": {},
     "output_type": "execute_result"
    }
   ],
   "source": [
    "doc = PdfParadise::PdfToHtml.new()\n",
    "doc.mkdir(\"/tmp/output\")\n",
    "doc.change_directory(\"/tmp/output\")\n",
    "p doc.return_pwd\n",
    "\n",
    "PdfParadise::AutomaticPdfTitle.new(\"/tmp/A_Comprehensive_Survey_of_Hallucination_Mitigation_Techniques_in_Large_Language_Models.pdf\")\n",
    "\n",
    "doc.set_commandline_arguments(\"/tmp/#{File.basename(pdf_file)}\")\n",
    "doc.run\n",
    "\n",
    "#Dir.entries(\"/tmp/output\")"
   ]
  },
  {
   "cell_type": "code",
   "execution_count": 65,
   "id": "caff5332-86c3-4733-a272-3408a8567c26",
   "metadata": {},
   "outputs": [
    {
     "data": {
      "text/plain": [
       "true"
      ]
     },
     "execution_count": 65,
     "metadata": {},
     "output_type": "execute_result"
    }
   ],
   "source": [
    "require 'hashie'\n",
    "\n",
    "def tidy_output(out)\n",
    "  cmd = \"tidy -q --doctype omit -utf8\"\n",
    "  result, error, status = Open3.capture3(cmd, stdin_data: out)\n",
    "  if status.exitstatus == 2\n",
    "    raise \"Problem using tidy: #{error}\"\n",
    "  end\n",
    "  result\n",
    " end"
   ]
  },
  {
   "cell_type": "code",
   "execution_count": 160,
   "id": "cc557b77-ee89-4d7b-ae2a-d921e3f39c2a",
   "metadata": {},
   "outputs": [
    {
     "name": "stdout",
     "output_type": "stream",
     "text": [
      "ok\n"
     ]
    }
   ],
   "source": [
    "require 'loofah'\n",
    "\n",
    "html_file = \"/tmp/output/A_Comprehensive_Survey_of_Hallucination_Mitigation_Techniques_in_Large_Language_Models.pdf_to_html-html.html\"\n",
    "\n",
    "t = File.read(html_file)\n",
    "\n",
    "tidy_html = `cat \"#{html_file}\" | tidy -asxhtml -b -indent -quiet --show-errors 0 --show-warnings 0 --show-body-only 1 --wrap 0`\n",
    "\n",
    "unsafe_html = tidy_html\n",
    "\n",
    "hh = Loofah.html5_fragment(tidy_html) \\\n",
    "     .scrub!(:prune) \\\n",
    "     .scrub!(:escape) \\\n",
    "     .scrub!(:unprintable)\n",
    "\n",
    "scrubbed_html = hh.to_s\n",
    "\n",
    "puts \"ok\"\n",
    "\n",
    "#File.write('/tmp/scrubbed_html.html', hh)\n"
   ]
  },
  {
   "cell_type": "code",
   "execution_count": null,
   "id": "c46041c5-742f-428e-b70b-c4495201196e",
   "metadata": {},
   "outputs": [],
   "source": [
    "require 'kramdown'\n",
    "p Dir.pwd\n",
    "\n",
    "kdoc = Kramdown::Document.new(scrubbed_html)\n",
    "\n",
    "\n",
    "html_hash = Kramdown::Converter::HashAst.convert(kdoc.root)\n",
    "\n",
    "puts \"ok\"\n",
    "\n",
    "\n",
    "\n"
   ]
  },
  {
   "cell_type": "code",
   "execution_count": 125,
   "id": "37c2d094-cf18-4fe4-a1bd-7ea2267f086b",
   "metadata": {},
   "outputs": [],
   "source": [
    "\n",
    "# # Mapping names to appropriate greetings\n",
    "# greeting = Hashie::Rash.new( /^Mr./ => \"Hello sir!\", /^Mrs./ => \"Evening, madame.\" )\n",
    "# greeting[\"Mr. Steve Austin\"] # => \"Hello sir!\"\n",
    "# greeting[\"Mrs. Steve Austin\"] # => \"Evening, madame.\"\n",
    "\n",
    "# # Mapping statements to saucy retorts\n",
    "# mapper = Hashie::Rash.new(\n",
    "#   /I like (.+)/ => proc { |m| \"Who DOESN'T like #{m[1]}?!\" },\n",
    "#   /Get off my (.+)!/ => proc { |m| \"Forget your #{m[1]}, old man!\" }\n",
    "# )\n",
    "# mapper[\"I like traffic lights\"] # => \"Who DOESN'T like traffic lights?!\"\n",
    "# mapper[\"Get off my lawn!\"]      # => \"Forget your lawn, old man!\""
   ]
  },
  {
   "cell_type": "code",
   "execution_count": 111,
   "id": "78680b6f-871a-4d5a-a0ed-9289a8cc6b7f",
   "metadata": {},
   "outputs": [
    {
     "data": {
      "text/plain": [
       "[:serialize_root, :to_str, :inner_text, :to_text, :text, :scrub!, :to_xml, :quirks_mode, :fragment, :url, :xpath_doctype, :title=, :serialize, :title, :meta_encoding, :type, :meta_encoding=, :dup, :deconstruct_keys, :namespaces, :root=, :<<, :namespace_inheritance, :create_element, :create_text_node, :create_cdata, :create_comment, :collect_namespaces, :add_child, :decorators, :namespace_inheritance=, :validate, :document, :errors, :root, :name, :slop!, :version, :canonicalize, :create_entity, :remove_namespaces!, :encoding=, :clone, :encoding, :errors=, :decorate, :inner_html, :write_to, :traverse, :element?, :text?, :to_s, :accept, :xml?, :write_html_to, :children, :write_xml_to, :to_xhtml, :path, :attr, :ancestors, :content, :matches?, :parse, :content=, :name=, :to_html, :wrap, :line=, :coerce, :child, :elements, :lang, :keys, :values, :key?, :value?, :node_type, :<=>, :description, :unlink, :==, :next, :[], :after, :[]=, :children=, :replace, :attribute_nodes, :attribute_with_ns, :create_external_subset, :create_internal_subset, :element_children, :encode_special_chars, :external_subset, :first_element_child, :internal_subset, :lang=, :last_element_child, :namespace_scopes, :namespaced_key?, :blank?, :next_element, :next_sibling, :node_name, :node_name=, :pointer_id, :previous_element, :previous_sibling, :attribute, :decorate!, :native_content=, :add_next_sibling, :prepend_child, :inner_html=, :namespace=, :do_xinclude, :remove_attribute, :add_previous_sibling, :add_class, :remove, :parent=, :remove_class, :before, :kwattr_add, :classes, :each, :kwattr_remove, :kwattr_values, :delete, :get_attribute, :append_class, :kwattr_append, :html?, :set_attribute, :has_attribute?, :cdata?, :previous, :fragment?, :elem?, :previous=, :next=, :css_path, :read_only?, :document?, :comment?, :processing_instruction?, :write_xhtml_to, :drop_while, :cycle, :chunk, :slice_before, :slice_after, :slice_when, :chunk_while, :sum, :uniq, :compact, :chain, :lazy, :to_h, :to_set, :include?, :max, :min, :find, :to_a, :entries, :sort, :sort_by, :grep, :grep_v, :count, :detect, :find_index, :find_all, :select, :filter, :filter_map, :reject, :collect, :map, :flat_map, :collect_concat, :inject, :reduce, :partition, :group_by, :tally, :first, :all?, :any?, :one?, :none?, :minmax, :min_by, :max_by, :minmax_by, :member?, :each_with_index, :reverse_each, :each_entry, :each_slice, :each_cons, :each_with_object, :zip, :take, :take_while, :drop, :related_class, :%, :xpath, :css, :at_xpath, :at_css, :/, :search, :at, :>, :inspect, :pretty_print, :to_yaml, :to_json, :pretty_print_cycle, :pretty_print_instance_variables, :pretty_print_inspect, :singleton_class, :itself, :taint, :tainted?, :untaint, :untrust, :untrusted?, :trust, :methods, :singleton_methods, :protected_methods, :private_methods, :public_methods, :instance_variables, :instance_variable_get, :instance_variable_set, :instance_variable_defined?, :remove_instance_variable, :instance_of?, :kind_of?, :is_a?, :display, :hash, :public_send, :class, :frozen?, :tap, :then, :extend, :yield_self, :pretty_inspect, :method, :public_method, :singleton_method, :===, :define_singleton_method, :=~, :!~, :nil?, :eql?, :respond_to?, :freeze, :object_id, :send, :gem, :to_enum, :enum_for, :__send__, :!, :__id__, :instance_eval, :instance_exec, :!=, :equal?]"
      ]
     },
     "execution_count": 111,
     "metadata": {},
     "output_type": "execute_result"
    }
   ],
   "source": [
    "hh.methods\n"
   ]
  },
  {
   "cell_type": "code",
   "execution_count": 114,
   "id": "cdec708e-fdc8-4ffe-a0c7-bd8d1ceaba20",
   "metadata": {},
   "outputs": [],
   "source": [
    "hh.root"
   ]
  },
  {
   "cell_type": "code",
   "execution_count": null,
   "id": "aadd0d8a-5eac-4925-922d-8a7ced94145d",
   "metadata": {},
   "outputs": [],
   "source": []
  }
 ],
 "metadata": {
  "kernelspec": {
   "display_name": "Ruby 3.1.4",
   "language": "ruby",
   "name": "ruby"
  },
  "language_info": {
   "file_extension": ".rb",
   "mimetype": "application/x-ruby",
   "name": "ruby",
   "version": "3.1.4"
  }
 },
 "nbformat": 4,
 "nbformat_minor": 5
}
