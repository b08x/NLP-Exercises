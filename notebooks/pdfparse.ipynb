{
 "cells": [
  {
   "cell_type": "code",
   "execution_count": 3,
   "id": "1f2a9cdc-761c-4101-86f2-fd23aa5a7e3d",
   "metadata": {},
   "outputs": [
    {
     "data": {
      "text/plain": [
       "true"
      ]
     },
     "execution_count": 3,
     "metadata": {},
     "output_type": "execute_result"
    }
   ],
   "source": [
    "require 'pdf_paradise'\n",
    "require 'tty-markdown'"
   ]
  },
  {
   "cell_type": "code",
   "execution_count": 4,
   "id": "9707d079-ac96-4127-a864-7277a76b1d73",
   "metadata": {},
   "outputs": [
    {
     "name": "stdout",
     "output_type": "stream",
     "text": [
      "\"/tmp/output\"\n",
      "\"A_Comprehensive_Survey_of_Hallucination_Mitigation_Techniques_in_Large_Language_Models.pdf\"\n",
      "\"A_Comprehensive_Survey_of_Hallucination_Mitigation_Techniques_in_Large_Language_Models\"\n"
     ]
    },
    {
     "data": {
      "text/plain": [
       "[\".\", \"..\", \"data-gym-cache\", \"llama_index\", \"tmp8l1ttocq\", \"output\", \"scrubbed_html.html\", \"A_Comprehensive_Survey_of_Hallucination_Mitigation_Techniques_in_Large_Language_Models.pdf\", \"hsperfdata_root\"]"
      ]
     },
     "execution_count": 4,
     "metadata": {},
     "output_type": "execute_result"
    }
   ],
   "source": [
    "temp_output = File.join(\"/tmp\", \"output\")\n",
    "p temp_output\n",
    "pdf_file = File.join(\"/home/jovyan/Library/Docs/papers/llm/A_Comprehensive_Survey_of_Hallucination_Mitigation_Techniques_in_Large_Language_Models.pdf\")\n",
    "\n",
    "\n",
    "p File.basename(pdf_file)\n",
    "\n",
    "\n",
    "p File.basename(pdf_file, \".\").gsub(File.extname(pdf_file), \"\")\n",
    "\n",
    "FileUtils.cp(pdf_file, \"/tmp/#{File.basename(pdf_file)}\")\n",
    "\n",
    "Dir.entries(\"/tmp\")\n"
   ]
  },
  {
   "cell_type": "code",
   "execution_count": 5,
   "id": "d8b0c254-978e-40ce-9299-82dc95705537",
   "metadata": {},
   "outputs": [
    {
     "name": "stdout",
     "output_type": "stream",
     "text": [
      "\u001b[38;2;70;130;180mpdftohtml -s /home/jovyan/.local/share/jupyter/runtime/kernel-5da36a14-4466-40c9-aac1-5ab696167f79.json kernel-5da36a14-4466-40c9-aac1-5ab696167f79.json_to_html.html\u001b[0m\n",
      "\"/tmp/output/\"\n",
      "\u001b[0;37mSetting the title of the .pdf file \u001b[38;2;106;90;205m/tmp/A_Comprehensive_Survey_of_Hallucination_Mitigation_Techniques_in_Large_Language_Models.pdf\u001b[0m \u001b[0;37mto:\n",
      "\n",
      "  \u001b[38;2;85;107;47mA Comprehensive Survey of Hallucination Mitigation Techniques in Large Language Models\u001b[0m\n",
      "\n",
      "\u001b[38;2;70;130;180mexiftool -charset UTF8 -overwrite_original -Title=\"A Comprehensive Survey of Hallucination Mitigation Techniques in Large Language Models\" /tmp/A_Comprehensive_Survey_of_Hallucination_Mitigation_Techniques_in_Large_Language_Models.pdf\u001b[0m\n",
      "\u001b[38;2;70;130;180mpdftohtml -s /tmp/A_Comprehensive_Survey_of_Hallucination_Mitigation_Techniques_in_Large_Language_Models.pdf A_Comprehensive_Survey_of_Hallucination_Mitigation_Techniques_in_Large_Language_Models.pdf_to_html.html\u001b[0m\n"
     ]
    },
    {
     "data": {
      "text/plain": [
       "[\"/tmp/A_Comprehensive_Survey_of_Hallucination_Mitigation_Techniques_in_Large_Language_Models.pdf\"]"
      ]
     },
     "execution_count": 5,
     "metadata": {},
     "output_type": "execute_result"
    }
   ],
   "source": [
    "doc = PdfParadise::PdfToHtml.new()\n",
    "doc.mkdir(\"/tmp/output\")\n",
    "doc.change_directory(\"/tmp/output\")\n",
    "p doc.return_pwd\n",
    "\n",
    "PdfParadise::AutomaticPdfTitle.new(\"/tmp/A_Comprehensive_Survey_of_Hallucination_Mitigation_Techniques_in_Large_Language_Models.pdf\")\n",
    "\n",
    "doc.set_commandline_arguments(\"/tmp/#{File.basename(pdf_file)}\")\n",
    "doc.run\n",
    "\n",
    "#Dir.entries(\"/tmp/output\")"
   ]
  },
  {
   "cell_type": "code",
   "execution_count": 6,
   "id": "caff5332-86c3-4733-a272-3408a8567c26",
   "metadata": {},
   "outputs": [],
   "source": [
    "# require 'hashie'\n",
    "\n",
    "# def tidy_output(out)\n",
    "#   cmd = \"tidy -q --doctype omit -utf8\"\n",
    "#   result, error, status = Open3.capture3(cmd, stdin_data: out)\n",
    "#   if status.exitstatus == 2\n",
    "#     raise \"Problem using tidy: #{error}\"\n",
    "#   end\n",
    "#   result\n",
    "#  end"
   ]
  },
  {
   "cell_type": "code",
   "execution_count": 46,
   "id": "cc557b77-ee89-4d7b-ae2a-d921e3f39c2a",
   "metadata": {},
   "outputs": [
    {
     "data": {
      "text/plain": [
       "\"\""
      ]
     },
     "execution_count": 46,
     "metadata": {},
     "output_type": "execute_result"
    }
   ],
   "source": [
    "require 'loofah'\n",
    "\n",
    "html_file = \"/tmp/output/A_Comprehensive_Survey_of_Hallucination_Mitigation_Techniques_in_Large_Language_Models.pdf_to_html-html.html\"\n",
    "\n",
    "t = File.read(html_file)\n",
    "\n",
    "# # tidy_html = `cat \"#{html_file}\" | tidy -asxhtml -b -indent -quiet --show-errors 0 --show-warnings 0 --show-body-only 1 --wrap 0`\n",
    "tidy_html = `cat \"#{html_file}\" | tidy -asxhtml -quiet --show-errors 0 --show-warnings 0 --show-body-only 0 --wrap 72`\n",
    "#tidy_html = `cat \"#{html_file}\" | tidy -config ~/.tidyrc`\n",
    "# #unsafe_html = tidy_html\n",
    "\n",
    "hh = Loofah.html5_fragment(tidy_html) \\\n",
    "     .scrub!(:prune) \\\n",
    "     .scrub!(:escape) \\\n",
    "     .scrub!(:unprintable) \\\n",
    "     .scrub!(:whitewash)\n",
    "\n",
    "File.write('/tmp/scrubbed_html.html', hh.to_s)\n",
    "\n",
    "`pandoc --from html --to markdown_github --wrap=auto -i /tmp/scrubbed_html.html -o /home/jovyan/Workspace/knowlecule/thepaper.md`\n",
    "\n",
    "#puts \"ok\"\n",
    "\n",
    "\n"
   ]
  },
  {
   "cell_type": "code",
   "execution_count": 47,
   "id": "9b1c056e-8989-4db7-be67-d2c1ae2b2ee4",
   "metadata": {},
   "outputs": [
    {
     "name": "stdout",
     "output_type": "stream",
     "text": [
      "ok\n"
     ]
    }
   ],
   "source": [
    "Dir.chdir(\"/home/jovyan/Workspace/knowlecule\")\n",
    "parsed = TTY::Markdown.parse_file('thepaper.md')\n",
    "\n",
    "puts \"ok\"\n"
   ]
  },
  {
   "cell_type": "code",
   "execution_count": 50,
   "id": "c46041c5-742f-428e-b70b-c4495201196e",
   "metadata": {},
   "outputs": [
    {
     "name": "stdout",
     "output_type": "stream",
     "text": [
      "\"/home/jovyan/Workspace/knowlecule\"\n",
      "ok\n"
     ]
    }
   ],
   "source": [
    "require 'kramdown'\n",
    "p Dir.pwd\n",
    "\n",
    "kdoc = Kramdown::Document.new(hh.to_s)\n",
    "\n",
    "html_hash = Kramdown::Converter::HashAst.convert(kdoc.root)\n",
    "\n",
    "puts \"ok\"\n",
    "\n",
    "\n",
    "\n"
   ]
  },
  {
   "cell_type": "code",
   "execution_count": 125,
   "id": "37c2d094-cf18-4fe4-a1bd-7ea2267f086b",
   "metadata": {},
   "outputs": [],
   "source": [
    "\n",
    "# # Mapping names to appropriate greetings\n",
    "# greeting = Hashie::Rash.new( /^Mr./ => \"Hello sir!\", /^Mrs./ => \"Evening, madame.\" )\n",
    "# greeting[\"Mr. Steve Austin\"] # => \"Hello sir!\"\n",
    "# greeting[\"Mrs. Steve Austin\"] # => \"Evening, madame.\"\n",
    "\n",
    "# # Mapping statements to saucy retorts\n",
    "# mapper = Hashie::Rash.new(\n",
    "#   /I like (.+)/ => proc { |m| \"Who DOESN'T like #{m[1]}?!\" },\n",
    "#   /Get off my (.+)!/ => proc { |m| \"Forget your #{m[1]}, old man!\" }\n",
    "# )\n",
    "# mapper[\"I like traffic lights\"] # => \"Who DOESN'T like traffic lights?!\"\n",
    "# mapper[\"Get off my lawn!\"]      # => \"Forget your lawn, old man!\""
   ]
  }
 ],
 "metadata": {
  "kernelspec": {
   "display_name": "Ruby 3.1.4",
   "language": "ruby",
   "name": "ruby"
  },
  "language_info": {
   "file_extension": ".rb",
   "mimetype": "application/x-ruby",
   "name": "ruby",
   "version": "3.1.4"
  }
 },
 "nbformat": 4,
 "nbformat_minor": 5
}
