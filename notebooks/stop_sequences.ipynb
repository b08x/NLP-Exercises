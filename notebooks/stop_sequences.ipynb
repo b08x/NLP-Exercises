{
 "cells": [
  {
   "cell_type": "code",
   "execution_count": null,
   "id": "8db066e1-b0a6-41f3-b156-1f931500ed00",
   "metadata": {},
   "outputs": [],
   "source": [
    "#!/usr/bin/env ruby\n",
    "# frozen_string_literal: true\n",
    "\n",
    "require 'net/http'\n",
    "require 'json'\n",
    "\n",
    "API_URL = \"https://api-inference.huggingface.co/models/mistralai/Mistral-7B-v0.1\"\n",
    "HEADERS = {\n",
    "  \"Content-Type\" => \"application/json\",\n",
    "  \"Authorization\" => \"Bearer #{ENV[\"HUGGINGFACEHUB_API_TOKEN\"]}\"\n",
    "}\n",
    "\n",
    "def inference(inputs, temperature = 0.45, max_new_tokens = 1000)\n",
    "\n",
    "  data = {\n",
    "    \"inputs\" => inputs,\n",
    "    \"parameters\" => {\n",
    "      \"temperature\" => temperature,\n",
    "      \"max_new_tokens\" => max_new_tokens,\n",
    "      \"repetition_penalty\" => 1.03,\n",
    "      \"details\" => false,\n",
    "      \"stop_sequences\" => [\"<|user|>\"]\n",
    "    }\n",
    "  }\n",
    "\n",
    "  uri = URI.parse(API_URL)\n",
    "\n",
    "  http = Net::HTTP.new(uri.host, uri.port)\n",
    "  http.use_ssl = true  # Use HTTPS\n",
    "\n",
    "  request = Net::HTTP::Post.new(uri.path, HEADERS)\n",
    "  request.body = data.to_json\n",
    "\n",
    "  response = http.request(request)\n",
    "\n",
    "end\n",
    "\n",
    "query = \"<|system|>\\nYou are an AI assistant. Troubleshoot the user issue regarding Linux Audio</s>\\n<|user|>\\n\\\"I've just installed AVlinux. \\\n",
    "After about 30 seconds of recording some midi tracks reaper, \\\n",
    "the sound starts crackling\\\"</s>\\n<|assistant|>\\n'\"\n",
    "\n",
    "response = inference(query)\n",
    "\n",
    "p JSON.parse(response.body)"
   ]
  },
  {
   "cell_type": "code",
   "execution_count": null,
   "id": "8cf197ed-41d2-4acd-aea4-9cb4df191b86",
   "metadata": {},
   "outputs": [],
   "source": []
  }
 ],
 "metadata": {
  "kernelspec": {
   "display_name": "Ruby 3.1.4",
   "language": "ruby",
   "name": "ruby"
  },
  "language_info": {
   "file_extension": ".rb",
   "mimetype": "application/x-ruby",
   "name": "ruby",
   "version": "3.1.4"
  }
 },
 "nbformat": 4,
 "nbformat_minor": 5
}
