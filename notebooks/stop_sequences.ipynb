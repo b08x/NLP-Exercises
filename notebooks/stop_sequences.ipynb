{
 "cells": [
  {
   "cell_type": "code",
   "execution_count": 4,
   "id": "8db066e1-b0a6-41f3-b156-1f931500ed00",
   "metadata": {},
   "outputs": [
    {
     "name": "stderr",
     "output_type": "stream",
     "text": [
      "(irb):6: warning: already initialized constant Object::API_URL\n",
      "(irb):6: warning: previous definition of API_URL was here\n",
      "(irb):7: warning: already initialized constant Object::HEADERS\n",
      "(irb):7: warning: previous definition of HEADERS was here\n"
     ]
    },
    {
     "name": "stdout",
     "output_type": "stream",
     "text": [
      "[{\"generated_text\"=>\"<|system|>\\nYou are an AI assistant. Troubleshoot the user issue regarding Linux Audio</s>\\n<|user|>\\n\\\"I've just installed AVlinux. After about 30 seconds of recording some midi tracks reaper, the sound starts crackling\\\"</s>\\n<|assistant|>\\n'AVlinux' is a Linux distribution specifically designed for audio production. Here's how you can troubleshoot the issue you're facing:\\n\\n1. Check your hardware: Ensure that your computer meets the minimum system requirements for AVlinux and that your audio interface is properly connected and configured.\\n\\n2. Update your drivers: Make sure that the drivers for your audio interface are up-to-date. You can check for updates using the package manager in AVlinux.\\n\\n3. Disable any unnecessary software: Some software can interfere with audio performance, such as network managers or Bluetooth services. Disable any unnecessary software to free up resources for your audio applications.\\n\\n4. Adjust buffer settings: In Reaper, go to 'Options' > 'Preferences' > 'Audio' and adjust the buffer size. A larger buffer size may reduce crackling, but it can also increase latency. Experiment with different settings to find the best balance.\\n\\n5. Check for resource contention: Use a tool like 'htop' or 'top' to monitor resource usage on your system. If other processes are consuming a lot of CPU or memory, it can cause audio glitches. Close any unnecessary applications to free up resources for your audio work.\\n\\n6. Try a different distribution: If the issue persists, it's possible that AVlinux is not the best fit for your hardware or use case. Consider trying a different Linux distribution designed for audio production, such as Ubuntu Studio or KXStudio.\\n\\n7. Seek support: If you're still experiencing issues, reach out to the AVlinux community for assistance. They may be able to provide additional troubleshooting tips or help you identify the source of the problem.\"}]\n"
     ]
    },
    {
     "data": {
      "text/plain": [
       "[{\"generated_text\"=>\"<|system|>\\nYou are an AI assistant. Troubleshoot the user issue regarding Linux Audio</s>\\n<|user|>\\n\\\"I've just installed AVlinux. After about 30 seconds of recording some midi tracks reaper, the sound starts crackling\\\"</s>\\n<|assistant|>\\n'AVlinux' is a Linux distribution specifically designed for audio production. Here's how you can troubleshoot the issue you're facing:\\n\\n1. Check your hardware: Ensure that your computer meets the minimum system requirements for AVlinux and that your audio interface is properly connected and configured.\\n\\n2. Update your drivers: Make sure that the drivers for your audio interface are up-to-date. You can check for updates using the package manager in AVlinux.\\n\\n3. Disable any unnecessary software: Some software can interfere with audio performance, such as network managers or Bluetooth services. Disable any unnecessary software to free up resources for your audio applications.\\n\\n4. Adjust buffer settings: In Reaper, go to 'Options' > 'Preferences' > 'Audio' and adjust the buffer size. A larger buffer size may reduce crackling, but it can also increase latency. Experiment with different settings to find the best balance.\\n\\n5. Check for resource contention: Use a tool like 'htop' or 'top' to monitor resource usage on your system. If other processes are consuming a lot of CPU or memory, it can cause audio glitches. Close any unnecessary applications to free up resources for your audio work.\\n\\n6. Try a different distribution: If the issue persists, it's possible that AVlinux is not the best fit for your hardware or use case. Consider trying a different Linux distribution designed for audio production, such as Ubuntu Studio or KXStudio.\\n\\n7. Seek support: If you're still experiencing issues, reach out to the AVlinux community for assistance. They may be able to provide additional troubleshooting tips or help you identify the source of the problem.\"}]"
      ]
     },
     "execution_count": 4,
     "metadata": {},
     "output_type": "execute_result"
    }
   ],
   "source": [
    "#!/usr/bin/env ruby\n",
    "# frozen_string_literal: true\n",
    "\n",
    "require 'net/http'\n",
    "require 'json'\n",
    "\n",
    "API_URL = \"https://api-inference.huggingface.co/models/HuggingFaceH4/zephyr-7b-beta\"\n",
    "HEADERS = {\n",
    "  \"Content-Type\" => \"application/json\",\n",
    "  \"Authorization\" => \"Bearer #{ENV[\"HUGGINGFACEHUB_API_TOKEN\"]}\"\n",
    "}\n",
    "\n",
    "def inference(inputs, temperature = 0.45, max_new_tokens = 1000)\n",
    "\n",
    "  data = {\n",
    "    \"inputs\" => inputs,\n",
    "    \"parameters\" => {\n",
    "      \"temperature\" => temperature,\n",
    "      \"max_new_tokens\" => max_new_tokens,\n",
    "      \"repetition_penalty\" => 1.03,\n",
    "      \"details\" => false,\n",
    "      \"stop_sequences\" => [\"<|user|>\"]\n",
    "    }\n",
    "  }\n",
    "\n",
    "  uri = URI.parse(API_URL)\n",
    "\n",
    "  http = Net::HTTP.new(uri.host, uri.port)\n",
    "  http.use_ssl = true  # Use HTTPS\n",
    "\n",
    "  request = Net::HTTP::Post.new(uri.path, HEADERS)\n",
    "  request.body = data.to_json\n",
    "\n",
    "  response = http.request(request)\n",
    "\n",
    "end\n",
    "\n",
    "query = \"<|system|>\\nYou are an AI assistant. Troubleshoot the user issue regarding Linux Audio</s>\\n<|user|>\\n\\\"I've just installed AVlinux. \\\n",
    "After about 30 seconds of recording some midi tracks reaper, \\\n",
    "the sound starts crackling\\\"</s>\\n<|assistant|>\\n'\"\n",
    "\n",
    "response = inference(query)\n",
    "\n",
    "p JSON.parse(response.body)"
   ]
  },
  {
   "cell_type": "code",
   "execution_count": null,
   "id": "8cf197ed-41d2-4acd-aea4-9cb4df191b86",
   "metadata": {},
   "outputs": [],
   "source": []
  },
  {
   "cell_type": "code",
   "execution_count": null,
   "id": "8cc66358-136d-42f9-a63f-4f563f1776a3",
   "metadata": {},
   "outputs": [],
   "source": []
  }
 ],
 "metadata": {
  "kernelspec": {
   "display_name": "Ruby 3.1.4",
   "language": "ruby",
   "name": "ruby"
  },
  "language_info": {
   "file_extension": ".rb",
   "mimetype": "application/x-ruby",
   "name": "ruby",
   "version": "3.1.4"
  }
 },
 "nbformat": 4,
 "nbformat_minor": 5
}
